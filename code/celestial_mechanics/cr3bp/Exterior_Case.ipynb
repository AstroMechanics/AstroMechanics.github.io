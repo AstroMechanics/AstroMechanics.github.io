{
 "cells": [
  {
   "cell_type": "code",
   "execution_count": 1,
   "id": "42a69523-0858-4b69-88cf-6774f01bce51",
   "metadata": {},
   "outputs": [],
   "source": [
    "import numpy as np\n",
    "import rebound\n",
    "import matplotlib.pyplot as plt\n",
    "from numpy.linalg import norm\n",
    "plt.style.use('dynamics_site')\n"
   ]
  },
  {
   "cell_type": "code",
   "execution_count": null,
   "id": "c7bbb853-1788-445b-a1a2-4eb6e62f6643",
   "metadata": {},
   "outputs": [],
   "source": []
  },
  {
   "cell_type": "code",
   "execution_count": 2,
   "id": "4e6a0464-fbbd-461c-9bc3-6cf8a10b636a",
   "metadata": {},
   "outputs": [],
   "source": [
    "sim = rebound.Simulation()\n",
    "r12 = 1.0 #initial spacing\n",
    "m1=1.0\n",
    "m2 = 0.1\n",
    "y0 = 1.5 #0.5\n",
    "x0 = 0 #0.5\n",
    "vx = -1.1 #-0.8\n",
    "\n",
    "sim.add(m=1)\n",
    "sim.add(m=0.1,a=r12)\n",
    "sim.move_to_com()\n",
    "sim.add(m=0,x=x0,vx=vx,y=y0)"
   ]
  },
  {
   "cell_type": "code",
   "execution_count": 3,
   "id": "67a9cc00-587a-4a68-8a21-66363fe82cd2",
   "metadata": {},
   "outputs": [],
   "source": [
    "sim.dt = 0.001 * sim.particles[1].P  # 5% of secondary's period to start\n",
    "Nout = 10000           # number of points to display\n",
    "tmax = 200         # let the simulation run for 80 years"
   ]
  },
  {
   "cell_type": "code",
   "execution_count": 4,
   "id": "cd63c5dd-de49-4c9c-bf7a-fce17c34b02b",
   "metadata": {},
   "outputs": [],
   "source": [
    "x = np.zeros((sim.N,Nout))\n",
    "y = np.zeros((sim.N,Nout))\n",
    "z = np.zeros((sim.N,Nout))\n",
    "vx = np.zeros((sim.N,Nout))\n",
    "vy = np.zeros((sim.N,Nout))\n",
    "vz = np.zeros((sim.N,Nout))\n",
    "\n",
    "times = np.linspace(0.,tmax,Nout)\n",
    "ps = sim.particles\n",
    "\n",
    "for i,time in enumerate(times):\n",
    "    sim.integrate(time)\n",
    "    for j in range(sim.N):\n",
    "        x[j][i] = ps[j].x \n",
    "        y[j][i] = ps[j].y\n",
    "        z[j][i] = ps[j].z\n",
    "        vx[j][i] = ps[j].vx \n",
    "        vy[j][i] = ps[j].vy\n",
    "        vz[j][i] = ps[j].vz\n"
   ]
  },
  {
   "cell_type": "code",
   "execution_count": null,
   "id": "84b44e3e-40b1-49eb-83ef-ea4abe7d22dc",
   "metadata": {},
   "outputs": [],
   "source": []
  },
  {
   "cell_type": "code",
   "execution_count": null,
   "id": "c8b3065d-4959-4dfe-b51d-c3fe6ff29d3d",
   "metadata": {},
   "outputs": [],
   "source": []
  },
  {
   "cell_type": "code",
   "execution_count": 5,
   "id": "2219b99c-dd22-419a-909e-42b469d53542",
   "metadata": {},
   "outputs": [],
   "source": [
    "n = sim.particles[1].n\n",
    "pi1 = m1/(m1+m2)\n",
    "pi2 = m2/(m1+m2)\n",
    "x1 = -pi2*r12\n",
    "x2 = pi1*r12"
   ]
  },
  {
   "cell_type": "code",
   "execution_count": null,
   "id": "b37d32b2-c38f-42ef-b862-f6ef952c51e9",
   "metadata": {},
   "outputs": [],
   "source": []
  },
  {
   "cell_type": "code",
   "execution_count": 6,
   "id": "3510c4e9-1abf-41a9-9d88-594fb9667cf1",
   "metadata": {},
   "outputs": [],
   "source": [
    "thetas = -np.arctan2(y[1],x[1])\n",
    "rx = x*np.cos(thetas) - y*np.sin(thetas)\n",
    "ry = x*np.sin(thetas) + y*np.cos(thetas)\n",
    "rz = z\n",
    "rvx = vx + y*n \n",
    "rvy = vy - x*n \n",
    "rvz = vz "
   ]
  },
  {
   "cell_type": "code",
   "execution_count": 7,
   "id": "de5cee47-c6f0-4876-b623-08ffaaf99d18",
   "metadata": {},
   "outputs": [],
   "source": [
    "r = np.array([rx[2],ry[2],rz[2]]).T\n",
    "r1 = np.array([(rx[2]-x1),ry[2],rz[2]]).T\n",
    "r2 = np.array([(rx[2]-x2),ry[2],rz[2]]).T"
   ]
  },
  {
   "cell_type": "code",
   "execution_count": 8,
   "id": "ea02b195-926c-4dc2-8297-4e2aefb9be01",
   "metadata": {},
   "outputs": [],
   "source": [
    "centrifugal  = (n*norm(r,axis=1))**2 / 2\n",
    "gravitational = m1/norm(r1,axis=1) + m2/norm(r2,axis=1) \n",
    "kinetic = rvx[2]**2 + rvy[2]**2 + rvz[2]**2\n",
    "u = centrifugal + gravitational\n",
    "jacobi=  (2*u - kinetic)\n",
    "#plt.plot(times,jacobi)"
   ]
  },
  {
   "cell_type": "code",
   "execution_count": 9,
   "id": "bc413b10-19b3-4dca-b3b5-d1fefd721563",
   "metadata": {},
   "outputs": [],
   "source": [
    "l=2.5\n",
    "xs = np.linspace(-l,l,1000)\n",
    "ys = np.linspace(-l,l,1000)"
   ]
  },
  {
   "cell_type": "code",
   "execution_count": 10,
   "id": "7dd2db72-0e71-4fd8-bf87-fb8a4f579376",
   "metadata": {},
   "outputs": [],
   "source": [
    "X,Y = np.meshgrid(xs,ys)"
   ]
  },
  {
   "cell_type": "code",
   "execution_count": 11,
   "id": "a2a55d61-b85d-4fc2-a382-ae83a3198c9d",
   "metadata": {},
   "outputs": [],
   "source": [
    "R = np.sqrt(X**2 + Y**2)\n",
    "R1 = np.sqrt((X-x1)**2 + Y**2)\n",
    "R2 = np.sqrt((X-x2)**2 + Y**2)\n",
    "U = ((n*R)**2) + 2*(m1/R1 + m2/R2) "
   ]
  },
  {
   "cell_type": "code",
   "execution_count": null,
   "id": "6f952c66-ed1c-42f0-9edd-c0f1ae86926c",
   "metadata": {},
   "outputs": [],
   "source": []
  },
  {
   "cell_type": "code",
   "execution_count": 12,
   "id": "bd20a2be-3268-471b-be8c-3b16d37536d3",
   "metadata": {},
   "outputs": [],
   "source": [
    "from matplotlib import cm\n",
    "from animate import *"
   ]
  },
  {
   "cell_type": "code",
   "execution_count": 13,
   "id": "4cfa615a-b9b4-4267-ac2e-0951389d86cc",
   "metadata": {},
   "outputs": [],
   "source": [
    "def makecircle(r):\n",
    "    t = np.linspace(0,2*np.pi,100)\n",
    "    return r*np.sin(t), r*np.cos(t)"
   ]
  },
  {
   "cell_type": "code",
   "execution_count": 14,
   "id": "2da750a5-b198-49f1-b5aa-1c1bb54e2b53",
   "metadata": {},
   "outputs": [],
   "source": [
    "def makeplot(i):\n",
    "    fig,ax = plt.subplots(ncols=2,figsize=(20,10),sharex=True,sharey=True)\n",
    "    plt.subplots_adjust(wspace=0.1)\n",
    "\n",
    "    umin,umax = np.log10(np.min(U)),0.6*np.log10(np.max(U))\n",
    "    level= np.logspace(umin,umax,20)\n",
    "    loglevels = np.log10(level)\n",
    "    colors = cm.viridis((loglevels - np.min(loglevels)) / (np.max(loglevels) - np.min(loglevels)))\n",
    "\n",
    "    ax[0].contour(X,Y,U,levels=[jacobi[0]],zorder=-1,colors='k',linewidths=5)\n",
    "    ax[0].contour(X,Y,U,levels=level,zorder=-1,colors = colors, linewidths=2)\n",
    "    ax[0].plot(rx[2][:i],ry[2][:i],c='r',alpha=0.3,zorder=1, linewidth=2)\n",
    "    ax[0].scatter(rx[2][i],ry[2][i],c='r',alpha=1.0,zorder=1,marker='x')\n",
    "    ax[0].scatter(rx[0][i],ry[0][i],c='k',s=100)\n",
    "    ax[0].scatter(rx[1][i],ry[1][i],c='r',s=100)\n",
    "    ax[0].set_xlim(-l,l)\n",
    "    ax[0].set_ylim(-l,l)\n",
    "    ax[0].axvline(x1,c='k',ls='--')\n",
    "    ax[0].axvline(x2,c='r',ls='--')\n",
    "\n",
    "    ox1,oy1 = makecircle(x1)\n",
    "    ox2,oy2 = makecircle(x2)\n",
    "    ax[1].plot(ox1,oy1,ls='--',c='k', linewidth=2)\n",
    "    ax[1].plot(ox2,oy2,ls='--',c='r', linewidth=2)\n",
    "    ax[1].scatter(x[0][i],y[0][i],c='k',s=100)\n",
    "    ax[1].scatter(x[1][i],y[1][i],c='r',s=100)\n",
    "    ax[1].scatter(x[2][i],y[2][i],c='r',alpha=1.0,zorder=1,marker='x')\n",
    "    ax[1].plot(x[2][:i],y[2][:i],c='r',alpha=0.3,zorder=1, linewidth=2)\n",
    "    return fig"
   ]
  },
  {
   "cell_type": "code",
   "execution_count": null,
   "id": "c21eca74-bd5a-40df-a433-d6bb68e2cbbf",
   "metadata": {},
   "outputs": [],
   "source": []
  },
  {
   "cell_type": "code",
   "execution_count": 16,
   "id": "dc69c8dd-f3aa-41d6-8d80-5d85f1e1afec",
   "metadata": {},
   "outputs": [
    {
     "name": "stdout",
     "output_type": "stream",
     "text": [
      "saving figures\n"
     ]
    },
    {
     "name": "stderr",
     "output_type": "stream",
     "text": [
      "100%|█████████████████████████████████████████| 500/500 [03:20<00:00,  2.49it/s]\n"
     ]
    }
   ],
   "source": [
    "savefigures(makeplot,np.arange(0,len(times),20),'./outer_case/',dpival=150)"
   ]
  },
  {
   "cell_type": "code",
   "execution_count": 17,
   "id": "23b8ccd0-a6a1-44a9-acfb-6fd9a47d07b8",
   "metadata": {},
   "outputs": [
    {
     "name": "stderr",
     "output_type": "stream",
     "text": [
      "ffmpeg version 4.4.2-0ubuntu0.22.04.1 Copyright (c) 2000-2021 the FFmpeg developers\n",
      "  built with gcc 11 (Ubuntu 11.2.0-19ubuntu1)\n",
      "  configuration: --prefix=/usr --extra-version=0ubuntu0.22.04.1 --toolchain=hardened --libdir=/usr/lib/x86_64-linux-gnu --incdir=/usr/include/x86_64-linux-gnu --arch=amd64 --enable-gpl --disable-stripping --enable-gnutls --enable-ladspa --enable-libaom --enable-libass --enable-libbluray --enable-libbs2b --enable-libcaca --enable-libcdio --enable-libcodec2 --enable-libdav1d --enable-libflite --enable-libfontconfig --enable-libfreetype --enable-libfribidi --enable-libgme --enable-libgsm --enable-libjack --enable-libmp3lame --enable-libmysofa --enable-libopenjpeg --enable-libopenmpt --enable-libopus --enable-libpulse --enable-librabbitmq --enable-librubberband --enable-libshine --enable-libsnappy --enable-libsoxr --enable-libspeex --enable-libsrt --enable-libssh --enable-libtheora --enable-libtwolame --enable-libvidstab --enable-libvorbis --enable-libvpx --enable-libwebp --enable-libx265 --enable-libxml2 --enable-libxvid --enable-libzimg --enable-libzmq --enable-libzvbi --enable-lv2 --enable-omx --enable-openal --enable-opencl --enable-opengl --enable-sdl2 --enable-pocketsphinx --enable-librsvg --enable-libmfx --enable-libdc1394 --enable-libdrm --enable-libiec61883 --enable-chromaprint --enable-frei0r --enable-libx264 --enable-shared\n",
      "  libavutil      56. 70.100 / 56. 70.100\n",
      "  libavcodec     58.134.100 / 58.134.100\n",
      "  libavformat    58. 76.100 / 58. 76.100\n",
      "  libavdevice    58. 13.100 / 58. 13.100\n",
      "  libavfilter     7.110.100 /  7.110.100\n",
      "  libswscale      5.  9.100 /  5.  9.100\n",
      "  libswresample   3.  9.100 /  3.  9.100\n",
      "  libpostproc    55.  9.100 / 55.  9.100\n",
      "Input #0, image2, from '%d.png':\n",
      "  Duration: 00:00:20.00, start: 0.000000, bitrate: N/A\n",
      "  Stream #0:0: Video: png, rgba(pc), 2380x1193 [SAR 5906:5906 DAR 2380:1193], 25 fps, 25 tbr, 25 tbn, 25 tbc\n",
      "Stream mapping:\n",
      "  Stream #0:0 -> #0:0 (png (native) -> png (native))\n",
      "Press [q] to stop, [?] for help\n"
     ]
    },
    {
     "name": "stdout",
     "output_type": "stream",
     "text": [
      "Framerate is None fps\n",
      "Total Runtime is None s\n"
     ]
    },
    {
     "name": "stderr",
     "output_type": "stream",
     "text": [
      "[Parsed_palettegen_0 @ 0x55f84fc56d80] 255(+1) colors generated out of 5769 colors; ratio=0.044202\n",
      "[Parsed_palettegen_0 @ 0x55f84fc56d80] Dupped color: FFFFC2C2\n",
      "[Parsed_palettegen_0 @ 0x55f84fc56d80] Dupped color: FFFFE4E4\n",
      "    Last message repeated 1 times\n",
      "Output #0, image2, to '../temp_palette_outer_case.png':\n",
      "  Metadata:\n",
      "    encoder         : Lavf58.76.100\n",
      "  Stream #0:0: Video: png, rgba(pc, gbr/unknown/unknown, progressive), 16x16 [SAR 1:1 DAR 1:1], q=2-31, 200 kb/s, 25 fps, 25 tbn\n",
      "    Metadata:\n",
      "      encoder         : Lavc58.134.100 png\n",
      "frame=    1 fps=0.2 q=-0.0 Lsize=N/A time=00:00:00.04 bitrate=N/A speed=0.00865x    \n",
      "video:1kB audio:0kB subtitle:0kB other streams:0kB global headers:0kB muxing overhead: unknown\n",
      "ffmpeg version 4.4.2-0ubuntu0.22.04.1 Copyright (c) 2000-2021 the FFmpeg developers\n",
      "  built with gcc 11 (Ubuntu 11.2.0-19ubuntu1)\n",
      "  configuration: --prefix=/usr --extra-version=0ubuntu0.22.04.1 --toolchain=hardened --libdir=/usr/lib/x86_64-linux-gnu --incdir=/usr/include/x86_64-linux-gnu --arch=amd64 --enable-gpl --disable-stripping --enable-gnutls --enable-ladspa --enable-libaom --enable-libass --enable-libbluray --enable-libbs2b --enable-libcaca --enable-libcdio --enable-libcodec2 --enable-libdav1d --enable-libflite --enable-libfontconfig --enable-libfreetype --enable-libfribidi --enable-libgme --enable-libgsm --enable-libjack --enable-libmp3lame --enable-libmysofa --enable-libopenjpeg --enable-libopenmpt --enable-libopus --enable-libpulse --enable-librabbitmq --enable-librubberband --enable-libshine --enable-libsnappy --enable-libsoxr --enable-libspeex --enable-libsrt --enable-libssh --enable-libtheora --enable-libtwolame --enable-libvidstab --enable-libvorbis --enable-libvpx --enable-libwebp --enable-libx265 --enable-libxml2 --enable-libxvid --enable-libzimg --enable-libzmq --enable-libzvbi --enable-lv2 --enable-omx --enable-openal --enable-opencl --enable-opengl --enable-sdl2 --enable-pocketsphinx --enable-librsvg --enable-libmfx --enable-libdc1394 --enable-libdrm --enable-libiec61883 --enable-chromaprint --enable-frei0r --enable-libx264 --enable-shared\n",
      "  libavutil      56. 70.100 / 56. 70.100\n",
      "  libavcodec     58.134.100 / 58.134.100\n",
      "  libavformat    58. 76.100 / 58. 76.100\n",
      "  libavdevice    58. 13.100 / 58. 13.100\n",
      "  libavfilter     7.110.100 /  7.110.100\n",
      "  libswscale      5.  9.100 /  5.  9.100\n",
      "  libswresample   3.  9.100 /  3.  9.100\n",
      "  libpostproc    55.  9.100 / 55.  9.100\n",
      "Input #0, image2, from '%d.png':\n",
      "  Duration: 00:00:20.00, start: 0.000000, bitrate: N/A\n",
      "  Stream #0:0: Video: png, rgba(pc), 2380x1193 [SAR 5906:5906 DAR 2380:1193], 25 fps, 25 tbr, 25 tbn, 25 tbc\n",
      "Input #1, png_pipe, from '../temp_palette_outer_case.png':\n",
      "  Duration: N/A, bitrate: N/A\n",
      "  Stream #1:0: Video: png, rgba(pc), 16x16 [SAR 1:1 DAR 1:1], 25 fps, 25 tbr, 25 tbn, 25 tbc\n",
      "Stream mapping:\n",
      "  Stream #0:0 (png) -> paletteuse:default\n",
      "  Stream #1:0 (png) -> paletteuse:palette\n",
      "  paletteuse -> Stream #0:0 (gif)\n",
      "Press [q] to stop, [?] for help\n",
      "[image2 @ 0x555a048e9840] Thread message queue blocking; consider raising the thread_queue_size option (current value: 8)\n",
      "Output #0, gif, to '../outer_case.gif':\n",
      "  Metadata:\n",
      "    encoder         : Lavf58.76.100\n",
      "  Stream #0:0: Video: gif, pal8(pc, gbr/unknown/unknown, progressive), 2380x1193 [SAR 1:1 DAR 2380:1193], q=2-31, 200 kb/s, 25 fps, 100 tbn (default)\n",
      "    Metadata:\n",
      "      encoder         : Lavc58.134.100 gif\n",
      "frame=  500 fps= 18 q=-0.0 Lsize=     716kB time=00:00:19.97 bitrate= 293.8kbits/s speed=0.738x    \n",
      "video:716kB audio:0kB subtitle:0kB other streams:0kB global headers:0kB muxing overhead: 0.002727%\n"
     ]
    }
   ],
   "source": [
    "render('./outer_case/','outer_case','gif',cleanup_type='rm')"
   ]
  },
  {
   "cell_type": "code",
   "execution_count": null,
   "id": "de11cdba-e6e1-45d0-bb71-38465e284c6c",
   "metadata": {},
   "outputs": [],
   "source": []
  },
  {
   "cell_type": "code",
   "execution_count": null,
   "id": "e9dcae65-81c1-4354-87fc-b1abb3c2b59a",
   "metadata": {},
   "outputs": [],
   "source": []
  },
  {
   "cell_type": "code",
   "execution_count": null,
   "id": "225e233a-bd9d-41f4-9dd6-87cd2339f64f",
   "metadata": {},
   "outputs": [],
   "source": []
  },
  {
   "cell_type": "code",
   "execution_count": null,
   "id": "1fe41f52-1552-4b8d-b7be-24546b83f6d3",
   "metadata": {},
   "outputs": [],
   "source": []
  },
  {
   "cell_type": "code",
   "execution_count": null,
   "id": "7498edeb-6fc1-42b1-9ac8-47862bc4ed33",
   "metadata": {},
   "outputs": [],
   "source": []
  },
  {
   "cell_type": "code",
   "execution_count": null,
   "id": "06d9fe2c-eb19-4acb-83bc-bdd7cdc8150e",
   "metadata": {},
   "outputs": [],
   "source": []
  },
  {
   "cell_type": "code",
   "execution_count": null,
   "id": "58cbc94d-dcd0-4e67-85d4-a2e9391d3ec0",
   "metadata": {},
   "outputs": [],
   "source": []
  },
  {
   "cell_type": "code",
   "execution_count": null,
   "id": "3626cf9d-9048-44a2-9b80-402cd70e79dc",
   "metadata": {},
   "outputs": [],
   "source": []
  }
 ],
 "metadata": {
  "kernelspec": {
   "display_name": "Python 3 (ipykernel)",
   "language": "python",
   "name": "python3"
  },
  "language_info": {
   "codemirror_mode": {
    "name": "ipython",
    "version": 3
   },
   "file_extension": ".py",
   "mimetype": "text/x-python",
   "name": "python",
   "nbconvert_exporter": "python",
   "pygments_lexer": "ipython3",
   "version": "3.10.12"
  }
 },
 "nbformat": 4,
 "nbformat_minor": 5
}
