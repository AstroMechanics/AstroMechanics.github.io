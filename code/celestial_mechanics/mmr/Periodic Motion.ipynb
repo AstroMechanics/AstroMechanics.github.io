{
 "cells": [
  {
   "cell_type": "code",
   "execution_count": 1,
   "id": "2558a58b-8a39-4a08-98aa-4efa8e4e15dc",
   "metadata": {},
   "outputs": [],
   "source": [
    "import numpy as np\n",
    "import matplotlib.pyplot as plt\n",
    "%matplotlib inline\n",
    "import rebound\n",
    "import matplotlib\n",
    "matplotlib.use('Agg')\n",
    "from animate import *\n"
   ]
  },
  {
   "cell_type": "code",
   "execution_count": 2,
   "id": "d5cffd48-ccbd-47cc-9536-5c562fba52ab",
   "metadata": {},
   "outputs": [],
   "source": [
    "sim = rebound.Simulation()\n",
    "sim.units = ('AU', 'Yr', 'Msun')\n",
    "sim.add(m=1)\n",
    "sim.add(m=0,a=1,e=0.0,omega=0)\n",
    "sim.add(m=0,a=(1.5)**(2/3),e=0.5,omega=0)"
   ]
  },
  {
   "cell_type": "code",
   "execution_count": null,
   "id": "d1caa49c-5457-4258-9800-5d3f7458d478",
   "metadata": {},
   "outputs": [],
   "source": []
  },
  {
   "cell_type": "code",
   "execution_count": 3,
   "id": "e1b4665c-9414-4814-8f84-4ac3cccd02d8",
   "metadata": {},
   "outputs": [],
   "source": [
    "os = sim.calculate_orbits()\n",
    "sim.integrator = \"ias15\"\n",
    "Nout = 5000            # number of points to display\n",
    "tmax = 125*os[0].P     # let the simulation run for 10 neptune orbits"
   ]
  },
  {
   "cell_type": "code",
   "execution_count": null,
   "id": "ba1f7862-0001-470f-b93c-9a028e808c4c",
   "metadata": {},
   "outputs": [],
   "source": []
  },
  {
   "cell_type": "code",
   "execution_count": 4,
   "id": "c5d7ebe1-635a-4d55-9f15-8d6bdd1d9ac4",
   "metadata": {},
   "outputs": [],
   "source": [
    "x = np.zeros((3,Nout))\n",
    "y = np.zeros((3,Nout))\n",
    "trails = []\n",
    "times = np.linspace(0.,tmax,Nout)"
   ]
  },
  {
   "cell_type": "code",
   "execution_count": null,
   "id": "57cb35ce-f05e-408d-9983-41ec1749d8de",
   "metadata": {},
   "outputs": [],
   "source": []
  },
  {
   "cell_type": "code",
   "execution_count": 5,
   "id": "f1f8e43a-f1f3-4caa-bb27-30ff78a9bfc1",
   "metadata": {},
   "outputs": [],
   "source": [
    "ps=sim.particles\n",
    "sim.move_to_com()\n",
    "for i,time in enumerate(times):\n",
    "    sim.integrate(time)\n",
    "    for j in range(3):\n",
    "        x[j][i] = ps[j].x \n",
    "        y[j][i] = ps[j].y\n",
    "    trails.append([np.array(ps[j+1].sample_orbit()) for j in range(2)])"
   ]
  },
  {
   "cell_type": "code",
   "execution_count": 6,
   "id": "f4fc142d-5977-4c04-9716-dff64a7a8f88",
   "metadata": {},
   "outputs": [],
   "source": [
    "dr = np.sqrt((x[2]-x[1])**2 + (y[2]-y[1])**2)"
   ]
  },
  {
   "cell_type": "code",
   "execution_count": null,
   "id": "ce1fcb27-2e38-4f4e-9990-b917e53329b0",
   "metadata": {},
   "outputs": [],
   "source": []
  },
  {
   "cell_type": "code",
   "execution_count": 7,
   "id": "d6618da0-d2ef-4441-ad48-1098ea14a31a",
   "metadata": {},
   "outputs": [],
   "source": [
    "path = './plot_periodic_aligned/'"
   ]
  },
  {
   "cell_type": "code",
   "execution_count": 8,
   "id": "e0abffcf-ea0b-4617-a3d4-9b3bd945f17c",
   "metadata": {},
   "outputs": [],
   "source": [
    "rot = -np.arctan2(y[1],x[1]) #subtract off rotation of Neptune"
   ]
  },
  {
   "cell_type": "code",
   "execution_count": 9,
   "id": "e6dc4087-898f-4da7-b57e-8dc99e057e25",
   "metadata": {},
   "outputs": [],
   "source": [
    "def rotmatrix(x,y,theta):\n",
    "    return x*np.cos(theta) - y*np.sin(theta), x*np.sin(theta) + y*np.cos(theta)"
   ]
  },
  {
   "cell_type": "code",
   "execution_count": 10,
   "id": "559de36a-b126-4ea1-ba1f-0033fe8aeb14",
   "metadata": {},
   "outputs": [],
   "source": [
    "def makeplot(i):\n",
    "    fig, ax = plt.subplots(ncols=2,figsize=(15,7))\n",
    "    ps = sim.particles\n",
    "\n",
    "    # manually set plot boundaries\n",
    "    lim = 2\n",
    "    ax[0].set_xlim([-lim, lim])\n",
    "    ax[0].set_ylim([-lim, lim])\n",
    "    # plot the stars and planets with separate symbols\n",
    "    x0,y0 = rotmatrix(x[0],y[0],rot)\n",
    "    x1,y1 = rotmatrix(x[1],y[1],rot)\n",
    "    x2,y2 = rotmatrix(x[2],y[2],rot)\n",
    "    ax[0].scatter(x0[i],y0[i], s=50, marker='*', facecolor='black', zorder=3)\n",
    "    ax[0].scatter(x1[i],y1[i], s=20, facecolor='black', zorder=3)\n",
    "    ax[0].scatter(x2[i],y2[i], s=20, facecolor='black', zorder=3)\n",
    "    ax[0].plot(x2[:i],y2[:i], c='red', zorder=3,alpha=0.5)\n",
    "\n",
    "    trailx1, traily1 = rotmatrix(trails[i][0][:,0], trails[i][0][:,1], rot[i])\n",
    "    trailx2, traily2 = rotmatrix(trails[i][1][:,0], trails[i][1][:,1], rot[i])\n",
    "\n",
    "#    ax[0].add_collection(fading_line(trailx1,traily1))\n",
    "#    ax[0].add_collection(fading_line(trailx2,traily2))\n",
    "    ax[0].set_xlabel('x [AU]')\n",
    "    ax[0].set_ylabel('y [AU]')\n",
    "\n",
    "\n",
    "    ax[1].plot(times[:i],dr[:i])\n",
    "    ax[1].scatter(times,dr,c='w',alpha=0)\n",
    "    ax[1].set_xlabel('Time [yrs]')\n",
    "    ax[1].set_ylabel('Distance between Planets [AU]')\n",
    "    ax[1].set_ylim(ymin=0)\n",
    "    plt.savefig(path+str(i)+'.png',dpi=300,bbox_inches='tight')\n",
    "    return fig"
   ]
  },
  {
   "cell_type": "code",
   "execution_count": 11,
   "id": "a14f08c9-e3e4-4c65-b8da-9b6f6999c3b5",
   "metadata": {},
   "outputs": [
    {
     "name": "stdout",
     "output_type": "stream",
     "text": [
      "saving figures\n"
     ]
    },
    {
     "name": "stderr",
     "output_type": "stream",
     "text": [
      "100%|█████████████████████████████████████████| 200/200 [02:29<00:00,  1.34it/s]\n",
      "ffmpeg version 4.4.2-0ubuntu0.22.04.1 Copyright (c) 2000-2021 the FFmpeg developers\n",
      "  built with gcc 11 (Ubuntu 11.2.0-19ubuntu1)\n",
      "  configuration: --prefix=/usr --extra-version=0ubuntu0.22.04.1 --toolchain=hardened --libdir=/usr/lib/x86_64-linux-gnu --incdir=/usr/include/x86_64-linux-gnu --arch=amd64 --enable-gpl --disable-stripping --enable-gnutls --enable-ladspa --enable-libaom --enable-libass --enable-libbluray --enable-libbs2b --enable-libcaca --enable-libcdio --enable-libcodec2 --enable-libdav1d --enable-libflite --enable-libfontconfig --enable-libfreetype --enable-libfribidi --enable-libgme --enable-libgsm --enable-libjack --enable-libmp3lame --enable-libmysofa --enable-libopenjpeg --enable-libopenmpt --enable-libopus --enable-libpulse --enable-librabbitmq --enable-librubberband --enable-libshine --enable-libsnappy --enable-libsoxr --enable-libspeex --enable-libsrt --enable-libssh --enable-libtheora --enable-libtwolame --enable-libvidstab --enable-libvorbis --enable-libvpx --enable-libwebp --enable-libx265 --enable-libxml2 --enable-libxvid --enable-libzimg --enable-libzmq --enable-libzvbi --enable-lv2 --enable-omx --enable-openal --enable-opencl --enable-opengl --enable-sdl2 --enable-pocketsphinx --enable-librsvg --enable-libmfx --enable-libdc1394 --enable-libdrm --enable-libiec61883 --enable-chromaprint --enable-frei0r --enable-libx264 --enable-shared\n",
      "  libavutil      56. 70.100 / 56. 70.100\n",
      "  libavcodec     58.134.100 / 58.134.100\n",
      "  libavformat    58. 76.100 / 58. 76.100\n",
      "  libavdevice    58. 13.100 / 58. 13.100\n",
      "  libavfilter     7.110.100 /  7.110.100\n",
      "  libswscale      5.  9.100 /  5.  9.100\n",
      "  libswresample   3.  9.100 /  3.  9.100\n",
      "  libpostproc    55.  9.100 / 55.  9.100\n",
      "Input #0, image2, from '%d.png':\n",
      "  Duration: 00:00:05.15, start: 0.000000, bitrate: N/A\n",
      "  Stream #0:0: Video: png, rgba(pc), 3676x1763 [SAR 11811:11811 DAR 3676:1763], 39 fps, 39 tbr, 39 tbn, 39 tbc\n",
      "Stream mapping:\n",
      "  Stream #0:0 -> #0:0 (png (native) -> mpeg4 (native))\n",
      "Press [q] to stop, [?] for help\n"
     ]
    },
    {
     "name": "stdout",
     "output_type": "stream",
     "text": [
      "Framerate is 39 fps\n",
      "Total Runtime is 10 s\n"
     ]
    },
    {
     "name": "stderr",
     "output_type": "stream",
     "text": [
      "Output #0, avi, to '../res_periodic_align.avi':\n",
      "  Metadata:\n",
      "    ISFT            : Lavf58.76.100\n",
      "  Stream #0:0: Video: mpeg4 (FMP4 / 0x34504D46), yuv420p(tv, progressive), 3676x1763 [SAR 1:1 DAR 3676:1763], q=2-31, 200 kb/s, 39 fps, 39 tbn\n",
      "    Metadata:\n",
      "      encoder         : Lavc58.134.100 mpeg4\n",
      "    Side data:\n",
      "      cpb: bitrate max/min/avg: 0/0/200000 buffer size: 0 vbv_delay: N/A\n",
      "frame=  201 fps= 60 q=0.0 Lsize=   12048kB time=00:00:05.15 bitrate=19150.4kbits/s speed=1.54x    \n",
      "video:12038kB audio:0kB subtitle:0kB other streams:0kB global headers:0kB muxing overhead: 0.086634%\n",
      "ffmpeg version 4.4.2-0ubuntu0.22.04.1 Copyright (c) 2000-2021 the FFmpeg developers\n",
      "  built with gcc 11 (Ubuntu 11.2.0-19ubuntu1)\n",
      "  configuration: --prefix=/usr --extra-version=0ubuntu0.22.04.1 --toolchain=hardened --libdir=/usr/lib/x86_64-linux-gnu --incdir=/usr/include/x86_64-linux-gnu --arch=amd64 --enable-gpl --disable-stripping --enable-gnutls --enable-ladspa --enable-libaom --enable-libass --enable-libbluray --enable-libbs2b --enable-libcaca --enable-libcdio --enable-libcodec2 --enable-libdav1d --enable-libflite --enable-libfontconfig --enable-libfreetype --enable-libfribidi --enable-libgme --enable-libgsm --enable-libjack --enable-libmp3lame --enable-libmysofa --enable-libopenjpeg --enable-libopenmpt --enable-libopus --enable-libpulse --enable-librabbitmq --enable-librubberband --enable-libshine --enable-libsnappy --enable-libsoxr --enable-libspeex --enable-libsrt --enable-libssh --enable-libtheora --enable-libtwolame --enable-libvidstab --enable-libvorbis --enable-libvpx --enable-libwebp --enable-libx265 --enable-libxml2 --enable-libxvid --enable-libzimg --enable-libzmq --enable-libzvbi --enable-lv2 --enable-omx --enable-openal --enable-opencl --enable-opengl --enable-sdl2 --enable-pocketsphinx --enable-librsvg --enable-libmfx --enable-libdc1394 --enable-libdrm --enable-libiec61883 --enable-chromaprint --enable-frei0r --enable-libx264 --enable-shared\n",
      "  libavutil      56. 70.100 / 56. 70.100\n",
      "  libavcodec     58.134.100 / 58.134.100\n",
      "  libavformat    58. 76.100 / 58. 76.100\n",
      "  libavdevice    58. 13.100 / 58. 13.100\n",
      "  libavfilter     7.110.100 /  7.110.100\n",
      "  libswscale      5.  9.100 /  5.  9.100\n",
      "  libswresample   3.  9.100 /  3.  9.100\n",
      "  libpostproc    55.  9.100 / 55.  9.100\n",
      "Input #0, avi, from '../res_periodic_align.avi':\n",
      "  Metadata:\n",
      "    software        : Lavf58.76.100\n",
      "  Duration: 00:00:05.15, start: 0.000000, bitrate: 19150 kb/s\n",
      "  Stream #0:0: Video: mpeg4 (Simple Profile) (FMP4 / 0x34504D46), yuv420p, 3676x1763 [SAR 1:1 DAR 3676:1763], 19229 kb/s, 39 fps, 39 tbr, 39 tbn, 39 tbc\n",
      "Stream mapping:\n",
      "  Stream #0:0 -> #0:0 (mpeg4 (native) -> png (native))\n",
      "Press [q] to stop, [?] for help\n",
      "[Parsed_palettegen_0 @ 0x55f370cc9f80] 255(+1) colors generated out of 116801 colors; ratio=0.002183\n",
      "[Parsed_palettegen_0 @ 0x55f370cc9f80] Dupped color: FF1F76B5\n",
      "[Parsed_palettegen_0 @ 0x55f370cc9f80] Dupped color: FFFFE8E7\n",
      "Output #0, image2, to '../temp_palette_res_periodic_align.png':\n",
      "  Metadata:\n",
      "    software        : Lavf58.76.100\n",
      "    encoder         : Lavf58.76.100\n",
      "  Stream #0:0: Video: png, rgba(pc, gbr/unknown/unknown, progressive), 16x16 [SAR 1:1 DAR 1:1], q=2-31, 200 kb/s, 39 fps, 39 tbn\n",
      "    Metadata:\n",
      "      encoder         : Lavc58.134.100 png\n",
      "frame=    1 fps=0.1 q=-0.0 Lsize=N/A time=00:00:00.02 bitrate=N/A speed=0.0038x    \n",
      "video:1kB audio:0kB subtitle:0kB other streams:0kB global headers:0kB muxing overhead: unknown\n",
      "ffmpeg version 4.4.2-0ubuntu0.22.04.1 Copyright (c) 2000-2021 the FFmpeg developers\n",
      "  built with gcc 11 (Ubuntu 11.2.0-19ubuntu1)\n",
      "  configuration: --prefix=/usr --extra-version=0ubuntu0.22.04.1 --toolchain=hardened --libdir=/usr/lib/x86_64-linux-gnu --incdir=/usr/include/x86_64-linux-gnu --arch=amd64 --enable-gpl --disable-stripping --enable-gnutls --enable-ladspa --enable-libaom --enable-libass --enable-libbluray --enable-libbs2b --enable-libcaca --enable-libcdio --enable-libcodec2 --enable-libdav1d --enable-libflite --enable-libfontconfig --enable-libfreetype --enable-libfribidi --enable-libgme --enable-libgsm --enable-libjack --enable-libmp3lame --enable-libmysofa --enable-libopenjpeg --enable-libopenmpt --enable-libopus --enable-libpulse --enable-librabbitmq --enable-librubberband --enable-libshine --enable-libsnappy --enable-libsoxr --enable-libspeex --enable-libsrt --enable-libssh --enable-libtheora --enable-libtwolame --enable-libvidstab --enable-libvorbis --enable-libvpx --enable-libwebp --enable-libx265 --enable-libxml2 --enable-libxvid --enable-libzimg --enable-libzmq --enable-libzvbi --enable-lv2 --enable-omx --enable-openal --enable-opencl --enable-opengl --enable-sdl2 --enable-pocketsphinx --enable-librsvg --enable-libmfx --enable-libdc1394 --enable-libdrm --enable-libiec61883 --enable-chromaprint --enable-frei0r --enable-libx264 --enable-shared\n",
      "  libavutil      56. 70.100 / 56. 70.100\n",
      "  libavcodec     58.134.100 / 58.134.100\n",
      "  libavformat    58. 76.100 / 58. 76.100\n",
      "  libavdevice    58. 13.100 / 58. 13.100\n",
      "  libavfilter     7.110.100 /  7.110.100\n",
      "  libswscale      5.  9.100 /  5.  9.100\n",
      "  libswresample   3.  9.100 /  3.  9.100\n",
      "  libpostproc    55.  9.100 / 55.  9.100\n",
      "Input #0, avi, from '../res_periodic_align.avi':\n",
      "  Metadata:\n",
      "    software        : Lavf58.76.100\n",
      "  Duration: 00:00:05.15, start: 0.000000, bitrate: 19150 kb/s\n",
      "  Stream #0:0: Video: mpeg4 (Simple Profile) (FMP4 / 0x34504D46), yuv420p, 3676x1763 [SAR 1:1 DAR 3676:1763], 19229 kb/s, 39 fps, 39 tbr, 39 tbn, 39 tbc\n",
      "Input #1, png_pipe, from '../temp_palette_res_periodic_align.png':\n",
      "  Duration: N/A, bitrate: N/A\n",
      "  Stream #1:0: Video: png, rgba(pc), 16x16 [SAR 1:1 DAR 1:1], 25 fps, 25 tbr, 25 tbn, 25 tbc\n",
      "Stream mapping:\n",
      "  Stream #0:0 (mpeg4) -> paletteuse:default\n",
      "  Stream #1:0 (png) -> paletteuse:palette\n",
      "  paletteuse -> Stream #0:0 (gif)\n",
      "Press [q] to stop, [?] for help\n",
      "Output #0, gif, to '../res_periodic_align.gif':\n",
      "  Metadata:\n",
      "    software        : Lavf58.76.100\n",
      "    encoder         : Lavf58.76.100\n",
      "  Stream #0:0: Video: gif, pal8(pc, gbr/unknown/unknown, progressive), 3676x1763 [SAR 1:1 DAR 3676:1763], q=2-31, 200 kb/s, 39 fps, 100 tbn (default)\n",
      "    Metadata:\n",
      "      encoder         : Lavc58.134.100 gif\n",
      "frame=  201 fps=6.7 q=-0.0 Lsize=   23794kB time=00:00:05.14 bitrate=37922.1kbits/s speed=0.17x    \n",
      "video:23794kB audio:0kB subtitle:0kB other streams:0kB global headers:0kB muxing overhead: 0.000082%\n"
     ]
    }
   ],
   "source": [
    "savefigures(makeplot,np.arange(0,Nout,25),path)\n",
    "render(path,'res_periodic_align','gifbyavi',runtime=10,cleanup_type='rm')"
   ]
  },
  {
   "cell_type": "code",
   "execution_count": null,
   "id": "2db06934-0106-4622-82f0-dc71618e0c19",
   "metadata": {},
   "outputs": [],
   "source": []
  },
  {
   "cell_type": "code",
   "execution_count": null,
   "id": "a79e1faf-b5ed-44a3-971c-908ae6ca4dfe",
   "metadata": {},
   "outputs": [],
   "source": []
  },
  {
   "cell_type": "code",
   "execution_count": null,
   "id": "6428b033-2039-4b50-948e-8edd04985f2b",
   "metadata": {},
   "outputs": [],
   "source": []
  },
  {
   "cell_type": "code",
   "execution_count": null,
   "id": "52a389e9-84a3-4617-9d0e-a25925cc9a80",
   "metadata": {},
   "outputs": [],
   "source": []
  },
  {
   "cell_type": "code",
   "execution_count": null,
   "id": "3e1ddf33-65d1-4216-93ea-22c7aedff290",
   "metadata": {},
   "outputs": [],
   "source": []
  },
  {
   "cell_type": "code",
   "execution_count": null,
   "id": "4721e0d8-2c37-4a92-8966-e7f5a45099c7",
   "metadata": {},
   "outputs": [],
   "source": []
  }
 ],
 "metadata": {
  "kernelspec": {
   "display_name": "Python 3 (ipykernel)",
   "language": "python",
   "name": "python3"
  },
  "language_info": {
   "codemirror_mode": {
    "name": "ipython",
    "version": 3
   },
   "file_extension": ".py",
   "mimetype": "text/x-python",
   "name": "python",
   "nbconvert_exporter": "python",
   "pygments_lexer": "ipython3",
   "version": "3.10.12"
  }
 },
 "nbformat": 4,
 "nbformat_minor": 5
}
