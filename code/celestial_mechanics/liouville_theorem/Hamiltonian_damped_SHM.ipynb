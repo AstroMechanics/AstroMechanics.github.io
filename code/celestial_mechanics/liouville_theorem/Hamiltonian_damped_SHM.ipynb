{
 "cells": [
  {
   "cell_type": "code",
   "execution_count": 9,
   "id": "724df1e0-be35-4df7-85c3-57084ab27c2e",
   "metadata": {},
   "outputs": [],
   "source": [
    "import numpy as np\n",
    "import matplotlib.pyplot as plt\n",
    "plt.style.use('dynamics_site')\n",
    "from scipy.integrate import odeint\n",
    "from animate import *"
   ]
  },
  {
   "cell_type": "code",
   "execution_count": 10,
   "id": "21f32220-234f-4140-8322-d0dd225116ec",
   "metadata": {},
   "outputs": [],
   "source": [
    "k=1\n",
    "m=1\n",
    "b=0.75"
   ]
  },
  {
   "cell_type": "code",
   "execution_count": 11,
   "id": "ef370b71-da3d-4650-a595-3ebd34c773e3",
   "metadata": {},
   "outputs": [],
   "source": [
    "def shm(y, t):\n",
    "    x, xdot = y\n",
    "    dydt = [xdot, - (k/m)*x]\n",
    "    return dydt\n",
    "\n",
    "def shm_damped(y, t):\n",
    "    x, xdot = y\n",
    "    dydt = [xdot, -b*xdot - (k/m)*x]\n",
    "    return dydt\n"
   ]
  },
  {
   "cell_type": "code",
   "execution_count": 12,
   "id": "8d2d643f-afb3-4140-94d3-1a54d863da54",
   "metadata": {},
   "outputs": [],
   "source": [
    "x = np.linspace(-1,1,1000)\n",
    "xdot = np.linspace(-1,1,1000)\n",
    "X,Xdot = np.meshgrid(x,xdot)\n",
    "z = 0.5*k*X**2 + 0.5*m*Xdot**2"
   ]
  },
  {
   "cell_type": "code",
   "execution_count": 13,
   "id": "1759ce4e-9378-49c5-a67c-1aecc25b6259",
   "metadata": {},
   "outputs": [],
   "source": [
    "t = np.linspace(0, 2*np.pi, 1001)\n",
    "solc = odeint(shm, [0.5, 0.0], t)\n",
    "sol0 = odeint(shm_damped, [0.5, 0.0], t)\n",
    "sol1 = odeint(shm_damped, [-0.5, 0.0], t)\n",
    "sol2 = odeint(shm_damped, [0.0, 0.5], t)\n",
    "sol3 = odeint(shm_damped, [0.0, -0.5], t)"
   ]
  },
  {
   "cell_type": "code",
   "execution_count": 14,
   "id": "4f3e8a47-87c3-48a8-8cc2-8a725c2cf9fc",
   "metadata": {},
   "outputs": [],
   "source": [
    "def makeplot(i):\n",
    "    sc=plt.imshow(z,extent=[-3*np.pi,3*np.pi,-2*np.pi,2*np.pi])\n",
    "    plt.close()\n",
    "    fig = plt.figure(figsize=(9,7))\n",
    "    plt.contour(X,Xdot,z,levels=10,zorder=-1)\n",
    "    plt.xlabel(r\"$\\theta$\")\n",
    "    plt.ylabel(r\"$P_\\theta$\")\n",
    "    plt.colorbar(sc,label='Energy')\n",
    "    plt.plot(solc[:,0],solc[:,1],c='k',ls='--',zorder=-1)\n",
    "    plt.scatter(sol0[i,0],sol0[i,1],c='r',s=15,zorder=1)\n",
    "    plt.scatter(sol1[i,0],sol1[i,1],c='r',s=15,zorder=1)\n",
    "    plt.scatter(sol2[i,0],sol2[i,1],c='r',s=15,zorder=1)\n",
    "    plt.scatter(sol3[i,0],sol3[i,1],c='r',s=15,zorder=1)\n",
    "    x=[sol0[i,0],sol2[i,0],sol1[i,0],sol3[i,0]]\n",
    "    y=[sol0[i,1],sol2[i,1],sol1[i,1],sol3[i,1]]\n",
    "    plt.fill(x, y,facecolor='r',alpha=0.5)\n",
    "\n",
    "    plt.xlim(-1,1)\n",
    "    plt.ylim(-1,1)\n",
    "    return fig"
   ]
  },
  {
   "cell_type": "code",
   "execution_count": null,
   "id": "745d4774-48e3-4644-9747-758eb26810fe",
   "metadata": {},
   "outputs": [],
   "source": []
  },
  {
   "cell_type": "code",
   "execution_count": 15,
   "id": "4991eb7a-da6e-4696-bd9b-b527a2a790b6",
   "metadata": {},
   "outputs": [
    {
     "name": "stdout",
     "output_type": "stream",
     "text": [
      "saving figures\n"
     ]
    },
    {
     "name": "stderr",
     "output_type": "stream",
     "text": [
      "  0%|                                                   | 0/200 [00:00<?, ?it/s]/tmp/ipykernel_10961/3463150950.py:8: MatplotlibDeprecationWarning: Starting from Matplotlib 3.6, colorbar() will steal space from the mappable's axes, rather than from the current axes, to place the colorbar.  To silence this warning, explicitly pass the 'ax' argument to colorbar().\n",
      "  plt.colorbar(sc,label='Energy')\n",
      "100%|█████████████████████████████████████████| 200/200 [01:26<00:00,  2.32it/s]\n",
      "ffmpeg version 4.4.2-0ubuntu0.22.04.1 Copyright (c) 2000-2021 the FFmpeg developers\n",
      "  built with gcc 11 (Ubuntu 11.2.0-19ubuntu1)\n",
      "  configuration: --prefix=/usr --extra-version=0ubuntu0.22.04.1 --toolchain=hardened --libdir=/usr/lib/x86_64-linux-gnu --incdir=/usr/include/x86_64-linux-gnu --arch=amd64 --enable-gpl --disable-stripping --enable-gnutls --enable-ladspa --enable-libaom --enable-libass --enable-libbluray --enable-libbs2b --enable-libcaca --enable-libcdio --enable-libcodec2 --enable-libdav1d --enable-libflite --enable-libfontconfig --enable-libfreetype --enable-libfribidi --enable-libgme --enable-libgsm --enable-libjack --enable-libmp3lame --enable-libmysofa --enable-libopenjpeg --enable-libopenmpt --enable-libopus --enable-libpulse --enable-librabbitmq --enable-librubberband --enable-libshine --enable-libsnappy --enable-libsoxr --enable-libspeex --enable-libsrt --enable-libssh --enable-libtheora --enable-libtwolame --enable-libvidstab --enable-libvorbis --enable-libvpx --enable-libwebp --enable-libx265 --enable-libxml2 --enable-libxvid --enable-libzimg --enable-libzmq --enable-libzvbi --enable-lv2 --enable-omx --enable-openal --enable-opencl --enable-opengl --enable-sdl2 --enable-pocketsphinx --enable-librsvg --enable-libmfx --enable-libdc1394 --enable-libdrm --enable-libiec61883 --enable-chromaprint --enable-frei0r --enable-libx264 --enable-shared\n",
      "  libavutil      56. 70.100 / 56. 70.100\n",
      "  libavcodec     58.134.100 / 58.134.100\n",
      "  libavformat    58. 76.100 / 58. 76.100\n",
      "  libavdevice    58. 13.100 / 58. 13.100\n",
      "  libavfilter     7.110.100 /  7.110.100\n",
      "  libswscale      5.  9.100 /  5.  9.100\n",
      "  libswresample   3.  9.100 /  3.  9.100\n",
      "  libpostproc    55.  9.100 / 55.  9.100\n",
      "Input #0, image2, from '%d.png':\n",
      "  Duration: 00:00:08.00, start: 0.000000, bitrate: N/A\n",
      "  Stream #0:0: Video: png, rgba(pc), 2381x1806 [SAR 11811:11811 DAR 2381:1806], 25 fps, 25 tbr, 25 tbn, 25 tbc\n",
      "Stream mapping:\n",
      "  Stream #0:0 -> #0:0 (png (native) -> png (native))\n",
      "Press [q] to stop, [?] for help\n"
     ]
    },
    {
     "name": "stdout",
     "output_type": "stream",
     "text": [
      "Framerate is None fps\n",
      "Total Runtime is None s\n"
     ]
    },
    {
     "name": "stderr",
     "output_type": "stream",
     "text": [
      "[Parsed_palettegen_0 @ 0x55b433b50f40] 255(+1) colors generated out of 4635 colors; ratio=0.055016\n",
      "Output #0, image2, to '../temp_palette_shm_damped.png':\n",
      "  Metadata:\n",
      "    encoder         : Lavf58.76.100\n",
      "  Stream #0:0: Video: png, rgba(pc, gbr/unknown/unknown, progressive), 16x16 [SAR 1:1 DAR 1:1], q=2-31, 200 kb/s, 25 fps, 25 tbn\n",
      "    Metadata:\n",
      "      encoder         : Lavc58.134.100 png\n",
      "frame=    1 fps=0.3 q=-0.0 Lsize=N/A time=00:00:00.04 bitrate=N/A speed=0.0123x    \n",
      "video:1kB audio:0kB subtitle:0kB other streams:0kB global headers:0kB muxing overhead: unknown\n",
      "ffmpeg version 4.4.2-0ubuntu0.22.04.1 Copyright (c) 2000-2021 the FFmpeg developers\n",
      "  built with gcc 11 (Ubuntu 11.2.0-19ubuntu1)\n",
      "  configuration: --prefix=/usr --extra-version=0ubuntu0.22.04.1 --toolchain=hardened --libdir=/usr/lib/x86_64-linux-gnu --incdir=/usr/include/x86_64-linux-gnu --arch=amd64 --enable-gpl --disable-stripping --enable-gnutls --enable-ladspa --enable-libaom --enable-libass --enable-libbluray --enable-libbs2b --enable-libcaca --enable-libcdio --enable-libcodec2 --enable-libdav1d --enable-libflite --enable-libfontconfig --enable-libfreetype --enable-libfribidi --enable-libgme --enable-libgsm --enable-libjack --enable-libmp3lame --enable-libmysofa --enable-libopenjpeg --enable-libopenmpt --enable-libopus --enable-libpulse --enable-librabbitmq --enable-librubberband --enable-libshine --enable-libsnappy --enable-libsoxr --enable-libspeex --enable-libsrt --enable-libssh --enable-libtheora --enable-libtwolame --enable-libvidstab --enable-libvorbis --enable-libvpx --enable-libwebp --enable-libx265 --enable-libxml2 --enable-libxvid --enable-libzimg --enable-libzmq --enable-libzvbi --enable-lv2 --enable-omx --enable-openal --enable-opencl --enable-opengl --enable-sdl2 --enable-pocketsphinx --enable-librsvg --enable-libmfx --enable-libdc1394 --enable-libdrm --enable-libiec61883 --enable-chromaprint --enable-frei0r --enable-libx264 --enable-shared\n",
      "  libavutil      56. 70.100 / 56. 70.100\n",
      "  libavcodec     58.134.100 / 58.134.100\n",
      "  libavformat    58. 76.100 / 58. 76.100\n",
      "  libavdevice    58. 13.100 / 58. 13.100\n",
      "  libavfilter     7.110.100 /  7.110.100\n",
      "  libswscale      5.  9.100 /  5.  9.100\n",
      "  libswresample   3.  9.100 /  3.  9.100\n",
      "  libpostproc    55.  9.100 / 55.  9.100\n",
      "Input #0, image2, from '%d.png':\n",
      "  Duration: 00:00:08.00, start: 0.000000, bitrate: N/A\n",
      "  Stream #0:0: Video: png, rgba(pc), 2381x1806 [SAR 11811:11811 DAR 2381:1806], 25 fps, 25 tbr, 25 tbn, 25 tbc\n",
      "Input #1, png_pipe, from '../temp_palette_shm_damped.png':\n",
      "  Duration: N/A, bitrate: N/A\n",
      "  Stream #1:0: Video: png, rgba(pc), 16x16 [SAR 1:1 DAR 1:1], 25 fps, 25 tbr, 25 tbn, 25 tbc\n",
      "Stream mapping:\n",
      "  Stream #0:0 (png) -> paletteuse:default\n",
      "  Stream #1:0 (png) -> paletteuse:palette\n",
      "  paletteuse -> Stream #0:0 (gif)\n",
      "Press [q] to stop, [?] for help\n",
      "[image2 @ 0x558be8d94840] Thread message queue blocking; consider raising the thread_queue_size option (current value: 8)\n",
      "Output #0, gif, to '../shm_damped.gif':\n",
      "  Metadata:\n",
      "    encoder         : Lavf58.76.100\n",
      "  Stream #0:0: Video: gif, pal8(pc, gbr/unknown/unknown, progressive), 2381x1806 [SAR 1:1 DAR 2381:1806], q=2-31, 200 kb/s, 25 fps, 100 tbn (default)\n",
      "    Metadata:\n",
      "      encoder         : Lavc58.134.100 gif\n",
      "frame=  200 fps= 11 q=-0.0 Lsize=     821kB time=00:00:07.97 bitrate= 843.8kbits/s speed=0.436x    \n",
      "video:821kB audio:0kB subtitle:0kB other streams:0kB global headers:0kB muxing overhead: 0.002379%\n"
     ]
    }
   ],
   "source": [
    "parameter_grid = list(range(1,len(t),5)) #plot every 5th timestep\n",
    "savefigures(makeplot,parameter_grid,outdir='./shm_damped/')\n",
    "render('./shm_damped/','shm_damped','gif',cleanup_type='rm')"
   ]
  },
  {
   "cell_type": "code",
   "execution_count": null,
   "id": "61e2ec8b-e9f4-4602-9f29-badfc081c33b",
   "metadata": {},
   "outputs": [],
   "source": []
  },
  {
   "cell_type": "code",
   "execution_count": null,
   "id": "4d4f7e36-98e9-4244-b4d7-929012147f49",
   "metadata": {},
   "outputs": [],
   "source": []
  },
  {
   "cell_type": "code",
   "execution_count": null,
   "id": "e5ecf9b8-ae52-4797-92ed-ef759858d4ec",
   "metadata": {},
   "outputs": [],
   "source": []
  }
 ],
 "metadata": {
  "kernelspec": {
   "display_name": "Python 3 (ipykernel)",
   "language": "python",
   "name": "python3"
  },
  "language_info": {
   "codemirror_mode": {
    "name": "ipython",
    "version": 3
   },
   "file_extension": ".py",
   "mimetype": "text/x-python",
   "name": "python",
   "nbconvert_exporter": "python",
   "pygments_lexer": "ipython3",
   "version": "3.10.6"
  }
 },
 "nbformat": 4,
 "nbformat_minor": 5
}
