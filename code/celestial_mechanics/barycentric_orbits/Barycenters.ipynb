{
 "cells": [
  {
   "cell_type": "code",
   "execution_count": 4,
   "metadata": {
    "tags": []
   },
   "outputs": [],
   "source": [
    "import numpy as np\n",
    "import matplotlib.pyplot as plt\n",
    "import matplotlib\n",
    "from animate import *\n",
    "import sys\n",
    "sys.path.append('../../src/')\n",
    "from helper_functions import *\n",
    "plt.style.use('dynamics_site')"
   ]
  },
  {
   "cell_type": "markdown",
   "metadata": {},
   "source": [
    "## Define Integration Loop"
   ]
  },
  {
   "cell_type": "code",
   "execution_count": 5,
   "metadata": {
    "tags": []
   },
   "outputs": [],
   "source": [
    "def integrate_rk2_midpoint(system,dt,steps):\n",
    "    G, mvec, rvec, vvec = load_initials(system)\n",
    "    Rs = [rvec]\n",
    "    Vs = [vvec]\n",
    "    for i in range(steps-1):\n",
    "        k1_vi = get_acclerations(rvec,mvec)\n",
    "        k1_ri = vvec\n",
    "\n",
    "        k2_vi = get_acclerations(rvec+(k1_ri*dt/2),mvec)\n",
    "        k2_ri = vvec+(k1_vi*dt/2)\n",
    "\n",
    "\n",
    "        new_vvec = vvec + dt*(1.0*k2_vi)\n",
    "        new_rvec = rvec + dt*(1.0*k2_ri)\n",
    "\n",
    "        Rs.append(new_rvec)\n",
    "        Vs.append(new_vvec)\n",
    "        rvec = new_rvec\n",
    "        vvec = new_vvec\n",
    "\n",
    "    Rs = np.array(Rs)\n",
    "    Vs = np.array(Vs)\n",
    "    PE = get_PE(Rs,mvec)\n",
    "    KE = get_KE(Vs,mvec)\n",
    "    \n",
    "    Rs = np.array([Rs[j].T for j in range(len(Rs))])\n",
    "    Vs = np.array([Vs[j].T for j in range(len(Rs))])\n",
    "    return Rs,Vs,PE+KE\n"
   ]
  },
  {
   "cell_type": "markdown",
   "metadata": {},
   "source": [
    "## Preform Integration"
   ]
  },
  {
   "cell_type": "code",
   "execution_count": 6,
   "metadata": {
    "tags": []
   },
   "outputs": [],
   "source": [
    "dt = 0.001\n",
    "steps = 5000\n",
    "Rs,Vs,Es = integrate_rk2_midpoint('../../src/bary_3.npy',dt,steps)\n",
    "xs0,ys0 = Rs[:,:2,0].T\n",
    "xp0,yp0 = Rs[:,:2,1].T\n",
    "Rs,Vs,Es = integrate_rk2_midpoint('../../src/bary_2.npy',dt,steps)\n",
    "xs1,ys1 = Rs[:,:2,0].T\n",
    "xp1,yp1 = Rs[:,:2,1].T\n",
    "Rs,Vs,Es = integrate_rk2_midpoint('../../src/bary_1.npy',dt,steps)\n",
    "xs2,ys2 = Rs[:,:2,0].T\n",
    "xp2,yp2 = Rs[:,:2,1].T\n",
    "Rs,Vs,Es = integrate_rk2_midpoint('../../src/bary_0.npy',dt,steps)\n",
    "xs3,ys3 = Rs[:,:2,0].T\n",
    "xp3,yp3 = Rs[:,:2,1].T\n",
    "times = np.linspace(0,steps*dt,steps)"
   ]
  },
  {
   "cell_type": "code",
   "execution_count": null,
   "metadata": {},
   "outputs": [],
   "source": []
  },
  {
   "cell_type": "markdown",
   "metadata": {},
   "source": [
    "## Generate Output "
   ]
  },
  {
   "cell_type": "code",
   "execution_count": 7,
   "metadata": {
    "tags": []
   },
   "outputs": [],
   "source": [
    "def makeplot(i):\n",
    "    xs,ys = Rs[:i,:2,0].T\n",
    "    xp,yp = Rs[:i,:2,1].T\n",
    "    relative_error = Es[:i]\n",
    "    times = np.linspace(0,steps*dt,steps)\n",
    "\n",
    "    fig,ax = plt.subplots(ncols=2,nrows=2,figsize=(20,20),sharex=True,sharey=True)\n",
    "    ax[0,0].scatter(0,0,c='k',marker='X',s=50)\n",
    "    ax[0,0].plot(xs0,ys0,c='k',alpha=0.2)\n",
    "    ax[0,0].plot(xp0,yp0,c='r',alpha=0.2)\n",
    "    ax[0,0].scatter(xs0[i],ys0[i],c='k',marker='o',s=100)\n",
    "    ax[0,0].scatter(xp0[i],yp0[i],c='r',marker='o',s=100)\n",
    "    ax[0,0].set_xlabel(\"X [AU]\")\n",
    "    ax[0,0].set_ylabel(\"Y [AU]\")\n",
    "    ax[0,0].set_xlim(-1.25,1.25)\n",
    "    ax[0,0].set_ylim(-1.25,1.25)\n",
    "    ax[0,0].set_title(r'$\\frac{m_1}{m_2} = 10^{-2}$')\n",
    "\n",
    "    ax[0,1].scatter(0,0,c='k',marker='X',s=50)\n",
    "    ax[0,1].plot(xs1,ys1,c='k',alpha=0.2)\n",
    "    ax[0,1].plot(xp1,yp1,c='r',alpha=0.2)\n",
    "    ax[0,1].scatter(xs1[i],ys1[i],c='k',marker='o',s=100)\n",
    "    ax[0,1].scatter(xp1[i],yp1[i],c='r',marker='o',s=100)\n",
    "    ax[0,1].set_xlabel(\"X [AU]\")\n",
    "    ax[0,1].set_ylabel(\"Y [AU]\")\n",
    "    ax[0,1].set_xlim(-1.25,1.25)\n",
    "    ax[0,1].set_ylim(-1.25,1.25)\n",
    "    ax[0,1].set_title(r'$\\frac{m_1}{m_2} = 10^{-1}$')\n",
    "\n",
    "    ax[1,0].scatter(0,0,c='k',marker='X',s=50)\n",
    "    ax[1,0].plot(xs2,ys2,c='k',alpha=0.2)\n",
    "    ax[1,0].plot(xp2,yp2,c='r',alpha=0.2)\n",
    "    ax[1,0].scatter(xs2[i],ys2[i],c='k',marker='o',s=100)\n",
    "    ax[1,0].scatter(xp2[i],yp2[i],c='r',marker='o',s=100)\n",
    "    ax[1,0].set_xlabel(\"X [AU]\")\n",
    "    ax[1,0].set_ylabel(\"Y [AU]\")\n",
    "    ax[1,0].set_xlim(-1.25,1.25)\n",
    "    ax[1,0].set_ylim(-1.25,1.25)\n",
    "    ax[1,0].set_title(r'$\\frac{m_1}{m_2} = \\frac{1}{2}$')\n",
    "\n",
    "    ax[1,1].scatter(0,0,c='k',marker='X',s=50)\n",
    "    ax[1,1].plot(xs3,ys3,c='k',alpha=0.2)\n",
    "    ax[1,1].plot(xp3,yp3,c='r',alpha=0.2)\n",
    "    ax[1,1].scatter(xs3[i],ys3[i],c='k',marker='o',s=100)\n",
    "    ax[1,1].scatter(xp3[i],yp3[i],c='r',marker='o',s=100)\n",
    "    ax[1,1].set_xlabel(\"X [AU]\")\n",
    "    ax[1,1].set_ylabel(\"Y [AU]\")\n",
    "    ax[1,1].set_xlim(-1.25,1.25)\n",
    "    ax[1,1].set_ylim(-1.25,1.25)\n",
    "    ax[1,1].set_title(r'$\\frac{m_1}{m_2} = 1$')\n",
    "    \n",
    "    \n",
    "    return fig"
   ]
  },
  {
   "cell_type": "code",
   "execution_count": null,
   "metadata": {},
   "outputs": [],
   "source": []
  },
  {
   "cell_type": "code",
   "execution_count": 8,
   "metadata": {
    "tags": []
   },
   "outputs": [
    {
     "name": "stdout",
     "output_type": "stream",
     "text": [
      "saving figures\n"
     ]
    },
    {
     "name": "stderr",
     "output_type": "stream",
     "text": [
      "100%|█████████████████████████████████████████| 100/100 [01:48<00:00,  1.09s/it]\n",
      "ffmpeg version 4.4.2-0ubuntu0.22.04.1 Copyright (c) 2000-2021 the FFmpeg developers\n",
      "  built with gcc 11 (Ubuntu 11.2.0-19ubuntu1)\n",
      "  configuration: --prefix=/usr --extra-version=0ubuntu0.22.04.1 --toolchain=hardened --libdir=/usr/lib/x86_64-linux-gnu --incdir=/usr/include/x86_64-linux-gnu --arch=amd64 --enable-gpl --disable-stripping --enable-gnutls --enable-ladspa --enable-libaom --enable-libass --enable-libbluray --enable-libbs2b --enable-libcaca --enable-libcdio --enable-libcodec2 --enable-libdav1d --enable-libflite --enable-libfontconfig --enable-libfreetype --enable-libfribidi --enable-libgme --enable-libgsm --enable-libjack --enable-libmp3lame --enable-libmysofa --enable-libopenjpeg --enable-libopenmpt --enable-libopus --enable-libpulse --enable-librabbitmq --enable-librubberband --enable-libshine --enable-libsnappy --enable-libsoxr --enable-libspeex --enable-libsrt --enable-libssh --enable-libtheora --enable-libtwolame --enable-libvidstab --enable-libvorbis --enable-libvpx --enable-libwebp --enable-libx265 --enable-libxml2 --enable-libxvid --enable-libzimg --enable-libzmq --enable-libzvbi --enable-lv2 --enable-omx --enable-openal --enable-opencl --enable-opengl --enable-sdl2 --enable-pocketsphinx --enable-librsvg --enable-libmfx --enable-libdc1394 --enable-libdrm --enable-libiec61883 --enable-chromaprint --enable-frei0r --enable-libx264 --enable-shared\n",
      "  libavutil      56. 70.100 / 56. 70.100\n",
      "  libavcodec     58.134.100 / 58.134.100\n",
      "  libavformat    58. 76.100 / 58. 76.100\n",
      "  libavdevice    58. 13.100 / 58. 13.100\n",
      "  libavfilter     7.110.100 /  7.110.100\n",
      "  libswscale      5.  9.100 /  5.  9.100\n",
      "  libswresample   3.  9.100 /  3.  9.100\n",
      "  libpostproc    55.  9.100 / 55.  9.100\n"
     ]
    },
    {
     "name": "stdout",
     "output_type": "stream",
     "text": [
      "Framerate is None fps\n",
      "Total Runtime is None s\n"
     ]
    },
    {
     "name": "stderr",
     "output_type": "stream",
     "text": [
      "Input #0, image2, from '%d.png':\n",
      "  Duration: 00:00:04.00, start: 0.000000, bitrate: N/A\n",
      "  Stream #0:0: Video: png, rgba(pc), 4915x4950 [SAR 11811:11811 DAR 983:990], 25 fps, 25 tbr, 25 tbn, 25 tbc\n",
      "Stream mapping:\n",
      "  Stream #0:0 -> #0:0 (png (native) -> png (native))\n",
      "Press [q] to stop, [?] for help\n",
      "[Parsed_palettegen_0 @ 0x55bc9a75cac0] 255(+1) colors generated out of 1178 colors; ratio=0.216469\n",
      "[Parsed_palettegen_0 @ 0x55bc9a75cac0] Dupped color: FFFFD9D9\n",
      "[Parsed_palettegen_0 @ 0x55bc9a75cac0] Dupped color: FFFFE2E2\n",
      "Output #0, image2, to '../temp_palette_barycenters.png':\n",
      "  Metadata:\n",
      "    encoder         : Lavf58.76.100\n",
      "  Stream #0:0: Video: png, rgba(pc, gbr/unknown/unknown, progressive), 16x16 [SAR 1:1 DAR 1:1], q=2-31, 200 kb/s, 25 fps, 25 tbn\n",
      "    Metadata:\n",
      "      encoder         : Lavc58.134.100 png\n",
      "frame=    1 fps=0.1 q=-0.0 Lsize=N/A time=00:00:00.04 bitrate=N/A speed=0.00506x    \n",
      "video:1kB audio:0kB subtitle:0kB other streams:0kB global headers:0kB muxing overhead: unknown\n",
      "ffmpeg version 4.4.2-0ubuntu0.22.04.1 Copyright (c) 2000-2021 the FFmpeg developers\n",
      "  built with gcc 11 (Ubuntu 11.2.0-19ubuntu1)\n",
      "  configuration: --prefix=/usr --extra-version=0ubuntu0.22.04.1 --toolchain=hardened --libdir=/usr/lib/x86_64-linux-gnu --incdir=/usr/include/x86_64-linux-gnu --arch=amd64 --enable-gpl --disable-stripping --enable-gnutls --enable-ladspa --enable-libaom --enable-libass --enable-libbluray --enable-libbs2b --enable-libcaca --enable-libcdio --enable-libcodec2 --enable-libdav1d --enable-libflite --enable-libfontconfig --enable-libfreetype --enable-libfribidi --enable-libgme --enable-libgsm --enable-libjack --enable-libmp3lame --enable-libmysofa --enable-libopenjpeg --enable-libopenmpt --enable-libopus --enable-libpulse --enable-librabbitmq --enable-librubberband --enable-libshine --enable-libsnappy --enable-libsoxr --enable-libspeex --enable-libsrt --enable-libssh --enable-libtheora --enable-libtwolame --enable-libvidstab --enable-libvorbis --enable-libvpx --enable-libwebp --enable-libx265 --enable-libxml2 --enable-libxvid --enable-libzimg --enable-libzmq --enable-libzvbi --enable-lv2 --enable-omx --enable-openal --enable-opencl --enable-opengl --enable-sdl2 --enable-pocketsphinx --enable-librsvg --enable-libmfx --enable-libdc1394 --enable-libdrm --enable-libiec61883 --enable-chromaprint --enable-frei0r --enable-libx264 --enable-shared\n",
      "  libavutil      56. 70.100 / 56. 70.100\n",
      "  libavcodec     58.134.100 / 58.134.100\n",
      "  libavformat    58. 76.100 / 58. 76.100\n",
      "  libavdevice    58. 13.100 / 58. 13.100\n",
      "  libavfilter     7.110.100 /  7.110.100\n",
      "  libswscale      5.  9.100 /  5.  9.100\n",
      "  libswresample   3.  9.100 /  3.  9.100\n",
      "  libpostproc    55.  9.100 / 55.  9.100\n",
      "Input #0, image2, from '%d.png':\n",
      "  Duration: 00:00:04.00, start: 0.000000, bitrate: N/A\n",
      "  Stream #0:0: Video: png, rgba(pc), 4915x4950 [SAR 11811:11811 DAR 983:990], 25 fps, 25 tbr, 25 tbn, 25 tbc\n",
      "Input #1, png_pipe, from '../temp_palette_barycenters.png':\n",
      "  Duration: N/A, bitrate: N/A\n",
      "  Stream #1:0: Video: png, rgba(pc), 16x16 [SAR 1:1 DAR 1:1], 25 fps, 25 tbr, 25 tbn, 25 tbc\n",
      "Stream mapping:\n",
      "  Stream #0:0 (png) -> paletteuse:default\n",
      "  Stream #1:0 (png) -> paletteuse:palette\n",
      "  paletteuse -> Stream #0:0 (gif)\n",
      "Press [q] to stop, [?] for help\n",
      "[image2 @ 0x562bb3d5c840] Thread message queue blocking; consider raising the thread_queue_size option (current value: 8)\n",
      "Output #0, gif, to '../barycenters.gif':\n",
      "  Metadata:\n",
      "    encoder         : Lavf58.76.100\n",
      "  Stream #0:0: Video: gif, pal8(pc, gbr/unknown/unknown, progressive), 4915x4950 [SAR 1:1 DAR 983:990], q=2-31, 200 kb/s, 25 fps, 100 tbn (default)\n",
      "    Metadata:\n",
      "      encoder         : Lavc58.134.100 gif\n",
      "frame=  100 fps=1.8 q=-0.0 Lsize=    1864kB time=00:00:03.97 bitrate=3847.2kbits/s speed=0.0713x    \n",
      "video:1864kB audio:0kB subtitle:0kB other streams:0kB global headers:0kB muxing overhead: 0.001048%\n"
     ]
    }
   ],
   "source": [
    "parameter_grid = list(range(1,len(Rs),50)) #plot every 5th timestep\n",
    "savefigures(makeplot,parameter_grid,outdir='./barycenters/')\n",
    "render('./barycenters/','barycenters','gif',cleanup_type='rm')"
   ]
  },
  {
   "cell_type": "code",
   "execution_count": null,
   "metadata": {},
   "outputs": [],
   "source": []
  },
  {
   "cell_type": "code",
   "execution_count": null,
   "metadata": {},
   "outputs": [],
   "source": []
  },
  {
   "cell_type": "code",
   "execution_count": null,
   "metadata": {},
   "outputs": [],
   "source": []
  },
  {
   "cell_type": "code",
   "execution_count": null,
   "metadata": {},
   "outputs": [],
   "source": []
  },
  {
   "cell_type": "code",
   "execution_count": null,
   "metadata": {},
   "outputs": [],
   "source": []
  },
  {
   "cell_type": "code",
   "execution_count": null,
   "metadata": {},
   "outputs": [],
   "source": []
  },
  {
   "cell_type": "code",
   "execution_count": null,
   "metadata": {},
   "outputs": [],
   "source": []
  },
  {
   "cell_type": "code",
   "execution_count": null,
   "metadata": {},
   "outputs": [],
   "source": []
  },
  {
   "cell_type": "code",
   "execution_count": null,
   "metadata": {},
   "outputs": [],
   "source": []
  },
  {
   "cell_type": "code",
   "execution_count": null,
   "metadata": {},
   "outputs": [],
   "source": [
    "\n"
   ]
  },
  {
   "cell_type": "code",
   "execution_count": null,
   "metadata": {},
   "outputs": [],
   "source": []
  },
  {
   "cell_type": "code",
   "execution_count": null,
   "metadata": {},
   "outputs": [],
   "source": []
  }
 ],
 "metadata": {
  "kernelspec": {
   "display_name": "Python 3 (ipykernel)",
   "language": "python",
   "name": "python3"
  },
  "language_info": {
   "codemirror_mode": {
    "name": "ipython",
    "version": 3
   },
   "file_extension": ".py",
   "mimetype": "text/x-python",
   "name": "python",
   "nbconvert_exporter": "python",
   "pygments_lexer": "ipython3",
   "version": "3.10.6"
  }
 },
 "nbformat": 4,
 "nbformat_minor": 4
}
