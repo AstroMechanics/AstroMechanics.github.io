{
 "cells": [
  {
   "cell_type": "code",
   "execution_count": 1,
   "metadata": {
    "tags": []
   },
   "outputs": [],
   "source": [
    "import numpy as np\n",
    "import matplotlib.pyplot as plt\n",
    "import matplotlib\n",
    "from animate import *\n",
    "import sys\n",
    "sys.path.append('../../src/')\n",
    "from helper_functions import *\n",
    "plt.style.use('dynamics_site')"
   ]
  },
  {
   "cell_type": "markdown",
   "metadata": {},
   "source": [
    "## Define Integration Loop"
   ]
  },
  {
   "cell_type": "code",
   "execution_count": 2,
   "metadata": {
    "tags": []
   },
   "outputs": [],
   "source": [
    "def integrate_rk45_dp(system,dt,steps,thresh=1e-9):\n",
    "    G, mvec, rvec, vvec = load_initials(system)\n",
    "    Rs = [rvec]\n",
    "    Vs = [vvec]\n",
    "    dts = [dt]\n",
    "    for i in range(steps-1):\n",
    "        k1_vi = dt*get_acclerations(rvec,mvec)\n",
    "        k1_ri = dt*vvec\n",
    "        \n",
    "        k2_vi = dt*get_acclerations(rvec +(1/5)*k1_ri,mvec)\n",
    "        k2_ri = dt*(vvec                 +(1/5)*k1_vi)\n",
    "\n",
    "        k3_vi = dt*get_acclerations(rvec +(3/40)*k1_ri + (9/40)*k2_ri,mvec)\n",
    "        k3_ri = dt*(vvec                 +(3/40)*k1_vi + (9/40)*k2_vi)\n",
    "\n",
    "        k4_vi = dt*get_acclerations(rvec +(44/45)*k1_ri - (56/15)*k2_ri + (32/9)*k3_ri,mvec)\n",
    "        k4_ri = dt*(vvec                 +(44/45)*k1_vi - (56/15)*k2_vi + (32/9)*k3_vi)\n",
    "\n",
    "        k5_vi = dt*get_acclerations(rvec +(19372/6561)*k1_ri - (25360/2187)*k2_ri + (64448/6561)*k3_ri - (212/729)*k4_ri,mvec)\n",
    "        k5_ri = dt*(vvec                 +(19372/6561)*k1_vi - (25360/2187)*k2_vi + (64448/6561)*k3_vi - (212/729)*k4_vi)\n",
    "                                                                            #several sources incorrectly use -(46732/5247) here!!\n",
    "        k6_vi = dt*get_acclerations(rvec +(9017/3168)*k1_ri - (355/33)*k2_ri + (46732/5247)*k3_ri + (49/176)*k4_ri - (5103/18656)*k5_ri,mvec)\n",
    "        k6_ri = dt*(vvec                 +(9017/3168)*k1_vi - (355/33)*k2_vi + (46732/5247)*k3_vi + (49/176)*k4_vi - (5103/18656)*k5_vi )\n",
    "\n",
    "        k7_vi = dt*get_acclerations(rvec +(35/384)*k1_ri + (500/1113)*k3_ri + (125/192)*k4_ri - (2187/6784)*k5_ri + (11/84)*k6_ri,mvec)\n",
    "        k7_ri = dt*(vvec                 +(35/384)*k1_vi + (500/1113)*k3_vi + (125/192)*k4_vi - (2187/6784)*k5_vi + (11/84)*k6_vi)\n",
    "\n",
    "        new_vvec_order4 = vvec + (35/384)*k1_vi + (500/1113)*k3_vi + (125/192)*k4_vi - (2187/6784)*k5_vi + (11/84)*k6_vi\n",
    "        new_rvec_order4 = rvec + (35/384)*k1_ri + (500/1113)*k3_ri + (125/192)*k4_ri - (2187/6784)*k5_ri + (11/84)*k6_ri\n",
    "        new_vvec_order5 = vvec + (5179/57600)*k1_vi + (7571/16695)*k3_vi + (393/640)*k4_vi - (92097/339200)*k5_vi + (187/2100)*k6_vi + (1/40)*k7_vi\n",
    "        new_rvec_order5 = rvec + (5179/57600)*k1_ri + (7571/16695)*k3_ri + (393/640)*k4_ri - (92097/339200)*k5_ri + (187/2100)*k6_ri + (1/40)*k7_ri\n",
    "\n",
    "        maxerr = np.max([new_vvec_order5-new_vvec_order4,new_rvec_order5-new_rvec_order4])\n",
    "        dt_new = (thresh/maxerr)**(1/5) * dt\n",
    "        \n",
    "        Rs.append(new_rvec_order4)\n",
    "        Vs.append(new_vvec_order4)\n",
    "        dts.append(dt_new)\n",
    "        rvec = new_rvec_order4\n",
    "        vvec = new_vvec_order4\n",
    "        dt = dt_new\n",
    "\n",
    "    Rs = np.array(Rs)\n",
    "    Vs = np.array(Vs)\n",
    "    PE = get_PE(Rs,mvec)\n",
    "    KE = get_KE(Vs,mvec)\n",
    "    \n",
    "    Rs = np.array([Rs[j].T for j in range(len(Rs))])\n",
    "    Vs = np.array([Vs[j].T for j in range(len(Rs))])\n",
    "    return Rs,Vs,PE+KE,dts\n"
   ]
  },
  {
   "cell_type": "code",
   "execution_count": null,
   "metadata": {},
   "outputs": [],
   "source": []
  },
  {
   "cell_type": "markdown",
   "metadata": {},
   "source": [
    "## Preform Integration"
   ]
  },
  {
   "cell_type": "code",
   "execution_count": 3,
   "metadata": {
    "tags": []
   },
   "outputs": [],
   "source": [
    "dt = 0.01\n",
    "steps = 20000\n",
    "Rs,Vs,Es,Dts = integrate_rk45_dp('../../src/Comet-Sun.npy',dt,steps,thresh=1e-12)\n",
    "xs,ys = Rs[:,:2,0].T\n",
    "xp,yp = Rs[:,:2,1].T\n",
    "times = np.linspace(0,steps*dt,steps)"
   ]
  },
  {
   "cell_type": "code",
   "execution_count": null,
   "metadata": {},
   "outputs": [],
   "source": []
  },
  {
   "cell_type": "code",
   "execution_count": null,
   "metadata": {},
   "outputs": [],
   "source": []
  },
  {
   "cell_type": "markdown",
   "metadata": {},
   "source": [
    "## Generate Output "
   ]
  },
  {
   "cell_type": "code",
   "execution_count": 4,
   "metadata": {
    "tags": []
   },
   "outputs": [],
   "source": [
    "def makeplot(i):\n",
    "    xs,ys = Rs[:i,:2,0].T\n",
    "    xp,yp = Rs[:i,:2,1].T\n",
    "    relative_error = Es[:i]\n",
    "    times = np.linspace(0,steps*dt,steps)\n",
    "\n",
    "\n",
    "    fig,ax = plt.subplots(ncols=3,figsize=(30,10))\n",
    "    ax[0].scatter(xs[-1],ys[-1],c='k',marker='*',s=100)\n",
    "    ax[0].plot(xp,yp,c='k',alpha=0.3)\n",
    "    ax[0].scatter(xp[-1],yp[-1],c='k',s=100)\n",
    "    ax[0].set_xlabel(\"X [AU]\")\n",
    "    ax[0].set_ylabel(\"Y [AU]\")\n",
    "    bound = np.max(np.sqrt(xp**2 + yp**2))\n",
    "    ax[0].set_xlim(-1.25*np.max(bound),1.25*np.max(bound))\n",
    "    ax[0].set_ylim(-1.25*np.max(bound),1.25*np.max(bound))\n",
    "\n",
    "    ax[1].scatter(times[:i],Dts[:i],c='k',alpha=0.3)\n",
    "    ax[1].set_ylabel(r\"$\\Delta t$\")\n",
    "    ax[1].set_xlabel(\"Time [yrs]\")\n",
    "    ax[1].set_ylim(0,1.25*np.max(Dts))\n",
    "    ax[1].set_xlim(0,np.max(times))\n",
    "\n",
    "    ax[2].plot(times[:i],relative_error,c='k')\n",
    "    ax[2].set_ylabel(\"Energy(t)\")\n",
    "    ax[2].set_xlabel(\"Time [yrs]\")\n",
    "    ax[2].set_xlim(0,np.max(times))\n",
    "    ax[2].set_ylim(np.min(Es),np.max(Es))\n",
    "    return fig"
   ]
  },
  {
   "cell_type": "code",
   "execution_count": 6,
   "metadata": {
    "tags": []
   },
   "outputs": [
    {
     "name": "stdout",
     "output_type": "stream",
     "text": [
      "saving figures\n"
     ]
    },
    {
     "name": "stderr",
     "output_type": "stream",
     "text": [
      "100%|█████████████████████████████████████████| 400/400 [06:13<00:00,  1.07it/s]\n",
      "ffmpeg version 4.4.2-0ubuntu0.22.04.1 Copyright (c) 2000-2021 the FFmpeg developers\n",
      "  built with gcc 11 (Ubuntu 11.2.0-19ubuntu1)\n",
      "  configuration: --prefix=/usr --extra-version=0ubuntu0.22.04.1 --toolchain=hardened --libdir=/usr/lib/x86_64-linux-gnu --incdir=/usr/include/x86_64-linux-gnu --arch=amd64 --enable-gpl --disable-stripping --enable-gnutls --enable-ladspa --enable-libaom --enable-libass --enable-libbluray --enable-libbs2b --enable-libcaca --enable-libcdio --enable-libcodec2 --enable-libdav1d --enable-libflite --enable-libfontconfig --enable-libfreetype --enable-libfribidi --enable-libgme --enable-libgsm --enable-libjack --enable-libmp3lame --enable-libmysofa --enable-libopenjpeg --enable-libopenmpt --enable-libopus --enable-libpulse --enable-librabbitmq --enable-librubberband --enable-libshine --enable-libsnappy --enable-libsoxr --enable-libspeex --enable-libsrt --enable-libssh --enable-libtheora --enable-libtwolame --enable-libvidstab --enable-libvorbis --enable-libvpx --enable-libwebp --enable-libx265 --enable-libxml2 --enable-libxvid --enable-libzimg --enable-libzmq --enable-libzvbi --enable-lv2 --enable-omx --enable-openal --enable-opencl --enable-opengl --enable-sdl2 --enable-pocketsphinx --enable-librsvg --enable-libmfx --enable-libdc1394 --enable-libdrm --enable-libiec61883 --enable-chromaprint --enable-frei0r --enable-libx264 --enable-shared\n",
      "  libavutil      56. 70.100 / 56. 70.100\n",
      "  libavcodec     58.134.100 / 58.134.100\n",
      "  libavformat    58. 76.100 / 58. 76.100\n",
      "  libavdevice    58. 13.100 / 58. 13.100\n",
      "  libavfilter     7.110.100 /  7.110.100\n",
      "  libswscale      5.  9.100 /  5.  9.100\n",
      "  libswresample   3.  9.100 /  3.  9.100\n",
      "  libpostproc    55.  9.100 / 55.  9.100\n",
      "Input #0, image2, from '%d.png':\n",
      "  Duration: 00:00:16.00, start: 0.000000, bitrate: N/A\n",
      "  Stream #0:0: Video: png, rgba(pc), 7283x2536 [SAR 11811:11811 DAR 7283:2536], 25 fps, 25 tbr, 25 tbn, 25 tbc\n",
      "Stream mapping:\n",
      "  Stream #0:0 -> #0:0 (png (native) -> png (native))\n",
      "Press [q] to stop, [?] for help\n"
     ]
    },
    {
     "name": "stdout",
     "output_type": "stream",
     "text": [
      "Framerate is None fps\n",
      "Total Runtime is None s\n"
     ]
    },
    {
     "name": "stderr",
     "output_type": "stream",
     "text": [
      "[Parsed_palettegen_0 @ 0x558dfeb73e80] 255(+1) colors generated out of 256 colors; ratio=0.996094\n",
      "Output #0, image2, to '../temp_palette_rk45_dp.png':\n",
      "  Metadata:\n",
      "    encoder         : Lavf58.76.100\n",
      "  Stream #0:0: Video: png, rgba(pc, gbr/unknown/unknown, progressive), 16x16 [SAR 1:1 DAR 1:1], q=2-31, 200 kb/s, 25 fps, 25 tbn\n",
      "    Metadata:\n",
      "      encoder         : Lavc58.134.100 png\n",
      "frame=    1 fps=0.0 q=-0.0 Lsize=N/A time=00:00:00.04 bitrate=N/A speed=0.00162x    \n",
      "video:1kB audio:0kB subtitle:0kB other streams:0kB global headers:0kB muxing overhead: unknown\n",
      "ffmpeg version 4.4.2-0ubuntu0.22.04.1 Copyright (c) 2000-2021 the FFmpeg developers\n",
      "  built with gcc 11 (Ubuntu 11.2.0-19ubuntu1)\n",
      "  configuration: --prefix=/usr --extra-version=0ubuntu0.22.04.1 --toolchain=hardened --libdir=/usr/lib/x86_64-linux-gnu --incdir=/usr/include/x86_64-linux-gnu --arch=amd64 --enable-gpl --disable-stripping --enable-gnutls --enable-ladspa --enable-libaom --enable-libass --enable-libbluray --enable-libbs2b --enable-libcaca --enable-libcdio --enable-libcodec2 --enable-libdav1d --enable-libflite --enable-libfontconfig --enable-libfreetype --enable-libfribidi --enable-libgme --enable-libgsm --enable-libjack --enable-libmp3lame --enable-libmysofa --enable-libopenjpeg --enable-libopenmpt --enable-libopus --enable-libpulse --enable-librabbitmq --enable-librubberband --enable-libshine --enable-libsnappy --enable-libsoxr --enable-libspeex --enable-libsrt --enable-libssh --enable-libtheora --enable-libtwolame --enable-libvidstab --enable-libvorbis --enable-libvpx --enable-libwebp --enable-libx265 --enable-libxml2 --enable-libxvid --enable-libzimg --enable-libzmq --enable-libzvbi --enable-lv2 --enable-omx --enable-openal --enable-opencl --enable-opengl --enable-sdl2 --enable-pocketsphinx --enable-librsvg --enable-libmfx --enable-libdc1394 --enable-libdrm --enable-libiec61883 --enable-chromaprint --enable-frei0r --enable-libx264 --enable-shared\n",
      "  libavutil      56. 70.100 / 56. 70.100\n",
      "  libavcodec     58.134.100 / 58.134.100\n",
      "  libavformat    58. 76.100 / 58. 76.100\n",
      "  libavdevice    58. 13.100 / 58. 13.100\n",
      "  libavfilter     7.110.100 /  7.110.100\n",
      "  libswscale      5.  9.100 /  5.  9.100\n",
      "  libswresample   3.  9.100 /  3.  9.100\n",
      "  libpostproc    55.  9.100 / 55.  9.100\n",
      "Input #0, image2, from '%d.png':\n",
      "  Duration: 00:00:16.00, start: 0.000000, bitrate: N/A\n",
      "  Stream #0:0: Video: png, rgba(pc), 7283x2536 [SAR 11811:11811 DAR 7283:2536], 25 fps, 25 tbr, 25 tbn, 25 tbc\n",
      "Input #1, png_pipe, from '../temp_palette_rk45_dp.png':\n",
      "  Duration: N/A, bitrate: N/A\n",
      "  Stream #1:0: Video: png, rgba(pc), 16x16 [SAR 1:1 DAR 1:1], 25 fps, 25 tbr, 25 tbn, 25 tbc\n",
      "Stream mapping:\n",
      "  Stream #0:0 (png) -> paletteuse:default\n",
      "  Stream #1:0 (png) -> paletteuse:palette\n",
      "  paletteuse -> Stream #0:0 (gif)\n",
      "Press [q] to stop, [?] for help\n",
      "[image2 @ 0x5565ef325840] Thread message queue blocking; consider raising the thread_queue_size option (current value: 8)\n",
      "Output #0, gif, to '../rk45_dp.gif':\n",
      "  Metadata:\n",
      "    encoder         : Lavf58.76.100\n",
      "  Stream #0:0: Video: gif, pal8(pc, gbr/unknown/unknown, progressive), 7283x2536 [SAR 1:1 DAR 7283:2536], q=2-31, 200 kb/s, 25 fps, 100 tbn (default)\n",
      "    Metadata:\n",
      "      encoder         : Lavc58.134.100 gif\n",
      "frame=  400 fps=2.5 q=-0.0 Lsize=    4208kB time=00:00:15.97 bitrate=2158.5kbits/s speed=0.0979x    \n",
      "video:4208kB audio:0kB subtitle:0kB other streams:0kB global headers:0kB muxing overhead: 0.000464%\n"
     ]
    }
   ],
   "source": [
    "parameter_grid = list(range(1,len(Rs),50)) #plot every 5th timestep\n",
    "savefigures(makeplot,parameter_grid,outdir='./rk45_dp/')\n",
    "render('./rk45_dp/','rk45_dp','gif',cleanup_type='rm')"
   ]
  },
  {
   "cell_type": "code",
   "execution_count": null,
   "metadata": {},
   "outputs": [],
   "source": []
  },
  {
   "cell_type": "code",
   "execution_count": null,
   "metadata": {},
   "outputs": [],
   "source": []
  },
  {
   "cell_type": "code",
   "execution_count": null,
   "metadata": {},
   "outputs": [],
   "source": []
  },
  {
   "cell_type": "code",
   "execution_count": null,
   "metadata": {},
   "outputs": [],
   "source": []
  },
  {
   "cell_type": "code",
   "execution_count": null,
   "metadata": {},
   "outputs": [],
   "source": []
  },
  {
   "cell_type": "code",
   "execution_count": null,
   "metadata": {},
   "outputs": [],
   "source": []
  },
  {
   "cell_type": "code",
   "execution_count": null,
   "metadata": {},
   "outputs": [],
   "source": []
  },
  {
   "cell_type": "code",
   "execution_count": null,
   "metadata": {},
   "outputs": [],
   "source": []
  },
  {
   "cell_type": "code",
   "execution_count": null,
   "metadata": {},
   "outputs": [],
   "source": []
  },
  {
   "cell_type": "code",
   "execution_count": null,
   "metadata": {},
   "outputs": [],
   "source": [
    "\n"
   ]
  },
  {
   "cell_type": "code",
   "execution_count": null,
   "metadata": {},
   "outputs": [],
   "source": []
  },
  {
   "cell_type": "code",
   "execution_count": null,
   "metadata": {},
   "outputs": [],
   "source": []
  }
 ],
 "metadata": {
  "kernelspec": {
   "display_name": "Python 3 (ipykernel)",
   "language": "python",
   "name": "python3"
  },
  "language_info": {
   "codemirror_mode": {
    "name": "ipython",
    "version": 3
   },
   "file_extension": ".py",
   "mimetype": "text/x-python",
   "name": "python",
   "nbconvert_exporter": "python",
   "pygments_lexer": "ipython3",
   "version": "3.10.6"
  }
 },
 "nbformat": 4,
 "nbformat_minor": 4
}
