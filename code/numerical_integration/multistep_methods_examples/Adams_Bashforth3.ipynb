{
 "cells": [
  {
   "cell_type": "code",
   "execution_count": 1,
   "metadata": {
    "tags": []
   },
   "outputs": [],
   "source": [
    "import numpy as np\n",
    "import matplotlib.pyplot as plt\n",
    "import matplotlib\n",
    "from animate import *\n",
    "import sys\n",
    "sys.path.append('../../src/')\n",
    "from helper_functions import *\n",
    "plt.style.use('dynamics_site')"
   ]
  },
  {
   "cell_type": "markdown",
   "metadata": {},
   "source": [
    "## Define Integration Loop"
   ]
  },
  {
   "cell_type": "code",
   "execution_count": null,
   "metadata": {},
   "outputs": [],
   "source": []
  },
  {
   "cell_type": "code",
   "execution_count": 2,
   "metadata": {
    "tags": []
   },
   "outputs": [],
   "source": [
    "def integrate_AB3(system,dt,steps):\n",
    "    G, mvec, rvec, vvec = load_initials(system)\n",
    "    Rs = [rvec]\n",
    "    Vs = [vvec]\n",
    "    \n",
    "    #these list hold the Adams-Bashford previous steps, we compute the first step with forward euler\n",
    "    new_vvec = vvec + dt*get_acclerations(Rs[0],mvec)\n",
    "    new_rvec = rvec + dt*Vs[0]\n",
    "    Rs.append(new_rvec)\n",
    "    Vs.append(new_vvec)\n",
    "    new_vvec = vvec + dt*get_acclerations(Rs[1],mvec)\n",
    "    new_rvec = rvec + dt*Vs[1]\n",
    "    Rs.append(new_rvec)\n",
    "    Vs.append(new_vvec)\n",
    "\n",
    "    for i in range(steps-1):\n",
    "        new_vvec = Vs[-1] + dt*( (23/12)*get_acclerations(Rs[-1],mvec) - (16/12)*get_acclerations(Rs[-2],mvec) + (5/12)*get_acclerations(Rs[-3],mvec))\n",
    "        new_rvec = Rs[-1] + dt*( (23/12)*Vs[-1] - (16/12)*Vs[-2] + (5/12)*Vs[-3]  )\n",
    "\n",
    "        Rs.append(new_rvec)\n",
    "        Vs.append(new_vvec)\n",
    "\n",
    "    Rs = np.array(Rs)\n",
    "    Vs = np.array(Vs)\n",
    "    PE = get_PE(Rs,mvec)\n",
    "    KE = get_KE(Vs,mvec)\n",
    "    \n",
    "    Rs = np.array([Rs[j].T for j in range(len(Rs))])\n",
    "    Vs = np.array([Vs[j].T for j in range(len(Rs))])\n",
    "    return Rs,Vs,PE+KE\n"
   ]
  },
  {
   "cell_type": "markdown",
   "metadata": {},
   "source": [
    "## Preform Integration"
   ]
  },
  {
   "cell_type": "code",
   "execution_count": 3,
   "metadata": {
    "tags": []
   },
   "outputs": [],
   "source": [
    "dt = 0.001\n",
    "steps = 20000\n",
    "Rs,Vs,Es = integrate_AB3('../../src/Earth-Sun.npy',dt,steps)\n",
    "xs,ys = Rs[:,:2,0].T\n",
    "xp,yp = Rs[:,:2,1].T\n",
    "times = np.linspace(0,steps*dt,steps)"
   ]
  },
  {
   "cell_type": "code",
   "execution_count": 9,
   "metadata": {},
   "outputs": [
    {
     "data": {
      "text/plain": [
       "(20002, 20002, 20000)"
      ]
     },
     "execution_count": 9,
     "metadata": {},
     "output_type": "execute_result"
    }
   ],
   "source": [
    "len(Es),len(xs),len(times)"
   ]
  },
  {
   "cell_type": "code",
   "execution_count": null,
   "metadata": {
    "tags": []
   },
   "outputs": [],
   "source": []
  },
  {
   "cell_type": "markdown",
   "metadata": {},
   "source": [
    "## Generate Output "
   ]
  },
  {
   "cell_type": "code",
   "execution_count": 16,
   "metadata": {
    "tags": []
   },
   "outputs": [],
   "source": [
    "def makeplot(i):\n",
    "    xs,ys = Rs[:i,:2,0].T\n",
    "    xp,yp = Rs[:i,:2,1].T\n",
    "    relative_error = Es[:-2]\n",
    "    times = np.linspace(0,steps*dt,steps)\n",
    "\n",
    "\n",
    "    fig,ax = plt.subplots(ncols=2,figsize=(20,10))\n",
    "    ax[0].scatter(xs[-1],ys[-1],c='k',marker='*',s=100)\n",
    "    ax[0].plot(xp,yp,c='k',alpha=0.3)\n",
    "    ax[0].scatter(xp[-1],yp[-1],c='k',s=100)\n",
    "    ax[0].set_xlabel(\"X [AU]\")\n",
    "    ax[0].set_ylabel(\"Y [AU]\")\n",
    "    ax[0].set_xlim(-1.25*np.max(Rs),1.25*np.max(Rs))\n",
    "    ax[0].set_ylim(-1.25*np.max(Rs),1.25*np.max(Rs))\n",
    "\n",
    "    ax[1].plot(times[:i],relative_error[:i],c='k')\n",
    "    ax[1].set_ylabel(\"Energy(t)\")\n",
    "    ax[1].set_xlabel(\"Time [yrs]\")\n",
    "    ax[1].set_xlim(0,np.max(times))\n",
    "    ax[1].set_ylim(np.min(Es),np.max(Es))\n",
    "    plt.suptitle(r\"$\\Delta t = 0.001 [yrs]$\")\n",
    "    return fig"
   ]
  },
  {
   "cell_type": "code",
   "execution_count": 17,
   "metadata": {
    "tags": []
   },
   "outputs": [
    {
     "name": "stdout",
     "output_type": "stream",
     "text": [
      "saving figures\n"
     ]
    },
    {
     "name": "stderr",
     "output_type": "stream",
     "text": [
      "100%|█████████████████████████████████████████| 401/401 [03:22<00:00,  1.98it/s]\n",
      "ffmpeg version 4.4.2-0ubuntu0.22.04.1 Copyright (c) 2000-2021 the FFmpeg developers\n",
      "  built with gcc 11 (Ubuntu 11.2.0-19ubuntu1)\n",
      "  configuration: --prefix=/usr --extra-version=0ubuntu0.22.04.1 --toolchain=hardened --libdir=/usr/lib/x86_64-linux-gnu --incdir=/usr/include/x86_64-linux-gnu --arch=amd64 --enable-gpl --disable-stripping --enable-gnutls --enable-ladspa --enable-libaom --enable-libass --enable-libbluray --enable-libbs2b --enable-libcaca --enable-libcdio --enable-libcodec2 --enable-libdav1d --enable-libflite --enable-libfontconfig --enable-libfreetype --enable-libfribidi --enable-libgme --enable-libgsm --enable-libjack --enable-libmp3lame --enable-libmysofa --enable-libopenjpeg --enable-libopenmpt --enable-libopus --enable-libpulse --enable-librabbitmq --enable-librubberband --enable-libshine --enable-libsnappy --enable-libsoxr --enable-libspeex --enable-libsrt --enable-libssh --enable-libtheora --enable-libtwolame --enable-libvidstab --enable-libvorbis --enable-libvpx --enable-libwebp --enable-libx265 --enable-libxml2 --enable-libxvid --enable-libzimg --enable-libzmq --enable-libzvbi --enable-lv2 --enable-omx --enable-openal --enable-opencl --enable-opengl --enable-sdl2 --enable-pocketsphinx --enable-librsvg --enable-libmfx --enable-libdc1394 --enable-libdrm --enable-libiec61883 --enable-chromaprint --enable-frei0r --enable-libx264 --enable-shared\n",
      "  libavutil      56. 70.100 / 56. 70.100\n",
      "  libavcodec     58.134.100 / 58.134.100\n",
      "  libavformat    58. 76.100 / 58. 76.100\n",
      "  libavdevice    58. 13.100 / 58. 13.100\n",
      "  libavfilter     7.110.100 /  7.110.100\n",
      "  libswscale      5.  9.100 /  5.  9.100\n",
      "  libswresample   3.  9.100 /  3.  9.100\n",
      "  libpostproc    55.  9.100 / 55.  9.100\n",
      "Input #0, image2, from '%d.png':\n",
      "  Duration: 00:00:16.04, start: 0.000000, bitrate: N/A\n",
      "  Stream #0:0: Video: png, rgba(pc), 4991x2775 [SAR 11811:11811 DAR 4991:2775], 25 fps, 25 tbr, 25 tbn, 25 tbc\n",
      "Stream mapping:\n",
      "  Stream #0:0 -> #0:0 (png (native) -> png (native))\n",
      "Press [q] to stop, [?] for help\n"
     ]
    },
    {
     "name": "stdout",
     "output_type": "stream",
     "text": [
      "Framerate is None fps\n",
      "Total Runtime is None s\n"
     ]
    },
    {
     "name": "stderr",
     "output_type": "stream",
     "text": [
      "[Parsed_palettegen_0 @ 0x565540360680] 255(+1) colors generated out of 256 colors; ratio=0.996094\n",
      "Output #0, image2, to '../temp_palette_AB3.png':\n",
      "  Metadata:\n",
      "    encoder         : Lavf58.76.100\n",
      "  Stream #0:0: Video: png, rgba(pc, gbr/unknown/unknown, progressive), 16x16 [SAR 1:1 DAR 1:1], q=2-31, 200 kb/s, 25 fps, 25 tbn\n",
      "    Metadata:\n",
      "      encoder         : Lavc58.134.100 png\n",
      "frame=    1 fps=0.1 q=-0.0 Lsize=N/A time=00:00:00.04 bitrate=N/A speed=0.00279x    \n",
      "video:1kB audio:0kB subtitle:0kB other streams:0kB global headers:0kB muxing overhead: unknown\n",
      "ffmpeg version 4.4.2-0ubuntu0.22.04.1 Copyright (c) 2000-2021 the FFmpeg developers\n",
      "  built with gcc 11 (Ubuntu 11.2.0-19ubuntu1)\n",
      "  configuration: --prefix=/usr --extra-version=0ubuntu0.22.04.1 --toolchain=hardened --libdir=/usr/lib/x86_64-linux-gnu --incdir=/usr/include/x86_64-linux-gnu --arch=amd64 --enable-gpl --disable-stripping --enable-gnutls --enable-ladspa --enable-libaom --enable-libass --enable-libbluray --enable-libbs2b --enable-libcaca --enable-libcdio --enable-libcodec2 --enable-libdav1d --enable-libflite --enable-libfontconfig --enable-libfreetype --enable-libfribidi --enable-libgme --enable-libgsm --enable-libjack --enable-libmp3lame --enable-libmysofa --enable-libopenjpeg --enable-libopenmpt --enable-libopus --enable-libpulse --enable-librabbitmq --enable-librubberband --enable-libshine --enable-libsnappy --enable-libsoxr --enable-libspeex --enable-libsrt --enable-libssh --enable-libtheora --enable-libtwolame --enable-libvidstab --enable-libvorbis --enable-libvpx --enable-libwebp --enable-libx265 --enable-libxml2 --enable-libxvid --enable-libzimg --enable-libzmq --enable-libzvbi --enable-lv2 --enable-omx --enable-openal --enable-opencl --enable-opengl --enable-sdl2 --enable-pocketsphinx --enable-librsvg --enable-libmfx --enable-libdc1394 --enable-libdrm --enable-libiec61883 --enable-chromaprint --enable-frei0r --enable-libx264 --enable-shared\n",
      "  libavutil      56. 70.100 / 56. 70.100\n",
      "  libavcodec     58.134.100 / 58.134.100\n",
      "  libavformat    58. 76.100 / 58. 76.100\n",
      "  libavdevice    58. 13.100 / 58. 13.100\n",
      "  libavfilter     7.110.100 /  7.110.100\n",
      "  libswscale      5.  9.100 /  5.  9.100\n",
      "  libswresample   3.  9.100 /  3.  9.100\n",
      "  libpostproc    55.  9.100 / 55.  9.100\n",
      "Input #0, image2, from '%d.png':\n",
      "  Duration: 00:00:16.04, start: 0.000000, bitrate: N/A\n",
      "  Stream #0:0: Video: png, rgba(pc), 4991x2775 [SAR 11811:11811 DAR 4991:2775], 25 fps, 25 tbr, 25 tbn, 25 tbc\n",
      "Input #1, png_pipe, from '../temp_palette_AB3.png':\n",
      "  Duration: N/A, bitrate: N/A\n",
      "  Stream #1:0: Video: png, rgba(pc), 16x16 [SAR 1:1 DAR 1:1], 25 fps, 25 tbr, 25 tbn, 25 tbc\n",
      "Stream mapping:\n",
      "  Stream #0:0 (png) -> paletteuse:default\n",
      "  Stream #1:0 (png) -> paletteuse:palette\n",
      "  paletteuse -> Stream #0:0 (gif)\n",
      "Press [q] to stop, [?] for help\n",
      "[image2 @ 0x5653d8ca2840] Thread message queue blocking; consider raising the thread_queue_size option (current value: 8)\n",
      "Output #0, gif, to '../AB3.gif':\n",
      "  Metadata:\n",
      "    encoder         : Lavf58.76.100\n",
      "  Stream #0:0: Video: gif, pal8(pc, gbr/unknown/unknown, progressive), 4991x2775 [SAR 1:1 DAR 4991:2775], q=2-31, 200 kb/s, 25 fps, 100 tbn (default)\n",
      "    Metadata:\n",
      "      encoder         : Lavc58.134.100 gif\n",
      "frame=  401 fps=4.2 q=-0.0 Lsize=    1644kB time=00:00:16.01 bitrate= 841.0kbits/s speed=0.168x     \n",
      "video:1644kB audio:0kB subtitle:0kB other streams:0kB global headers:0kB muxing overhead: 0.001188%\n"
     ]
    }
   ],
   "source": [
    "parameter_grid = list(range(1,len(Rs),50)) #plot every 5th timestep\n",
    "savefigures(makeplot,parameter_grid,outdir='./AB3/')\n",
    "render('./AB3/','AB3','gif',cleanup_type='rm')"
   ]
  },
  {
   "cell_type": "code",
   "execution_count": null,
   "metadata": {},
   "outputs": [],
   "source": []
  },
  {
   "cell_type": "code",
   "execution_count": null,
   "metadata": {},
   "outputs": [],
   "source": []
  },
  {
   "cell_type": "code",
   "execution_count": null,
   "metadata": {},
   "outputs": [],
   "source": []
  },
  {
   "cell_type": "code",
   "execution_count": null,
   "metadata": {},
   "outputs": [],
   "source": []
  },
  {
   "cell_type": "code",
   "execution_count": null,
   "metadata": {},
   "outputs": [],
   "source": []
  },
  {
   "cell_type": "code",
   "execution_count": null,
   "metadata": {},
   "outputs": [],
   "source": []
  },
  {
   "cell_type": "code",
   "execution_count": null,
   "metadata": {},
   "outputs": [],
   "source": []
  },
  {
   "cell_type": "code",
   "execution_count": null,
   "metadata": {},
   "outputs": [],
   "source": []
  },
  {
   "cell_type": "code",
   "execution_count": null,
   "metadata": {},
   "outputs": [],
   "source": []
  },
  {
   "cell_type": "code",
   "execution_count": null,
   "metadata": {},
   "outputs": [],
   "source": [
    "\n"
   ]
  },
  {
   "cell_type": "code",
   "execution_count": null,
   "metadata": {},
   "outputs": [],
   "source": []
  },
  {
   "cell_type": "code",
   "execution_count": null,
   "metadata": {},
   "outputs": [],
   "source": []
  }
 ],
 "metadata": {
  "kernelspec": {
   "display_name": "Python 3 (ipykernel)",
   "language": "python",
   "name": "python3"
  },
  "language_info": {
   "codemirror_mode": {
    "name": "ipython",
    "version": 3
   },
   "file_extension": ".py",
   "mimetype": "text/x-python",
   "name": "python",
   "nbconvert_exporter": "python",
   "pygments_lexer": "ipython3",
   "version": "3.10.6"
  }
 },
 "nbformat": 4,
 "nbformat_minor": 4
}
