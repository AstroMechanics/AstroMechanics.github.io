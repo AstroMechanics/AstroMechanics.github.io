{
 "cells": [
  {
   "cell_type": "code",
   "execution_count": 1,
   "metadata": {
    "tags": []
   },
   "outputs": [],
   "source": [
    "import numpy as np\n",
    "import matplotlib.pyplot as plt\n",
    "import matplotlib\n",
    "from animate import *\n",
    "import sys\n",
    "sys.path.append('../../src/')\n",
    "from helper_functions import *\n",
    "plt.style.use('dynamics_site')"
   ]
  },
  {
   "cell_type": "code",
   "execution_count": 3,
   "metadata": {},
   "outputs": [],
   "source": [
    "#define findiff approx:\n",
    "def getsol(tmax,f0,dt):\n",
    "    y=[f0]\n",
    "    x=[0]\n",
    "    time=0\n",
    "    while time < tmax:\n",
    "        f_next = f0/(1+ 15*dt)\n",
    "        y.append(f0)\n",
    "        x.append(time)\n",
    "        f0 = f_next\n",
    "        time= time+dt\n",
    "    return x, y\n",
    "\n",
    "\n",
    "def generator(dt):\n",
    "    matplotlib.use('agg')\n",
    "    # Set up data\n",
    "    x = np.linspace(0, 2, 100)\n",
    "    y = np.e**(-15*x)\n",
    "    newx,newy = getsol(2,1,dt)\n",
    "    \n",
    "    fig,ax = plt.subplots(figsize=(7,7))\n",
    "    plt.plot(x,y,c='k',label='$e^{t}$',zorder=0)\n",
    "    plt.scatter(newx,newy,c='r',label='numerical f(t)',zorder=1)\n",
    "    plt.ylabel(\"f(t)\")\n",
    "    plt.xlabel('t')\n",
    "    plt.title('$\\Delta t =$'+str(np.round(dt,3)))\n",
    "    plt.legend(loc='lower right')\n",
    "    plt.ylim(-0.5,1.25)\n",
    "    plt.close() #stops figure from being shown\n",
    "    return fig"
   ]
  },
  {
   "cell_type": "code",
   "execution_count": null,
   "metadata": {},
   "outputs": [],
   "source": []
  },
  {
   "cell_type": "code",
   "execution_count": 4,
   "metadata": {},
   "outputs": [
    {
     "name": "stdout",
     "output_type": "stream",
     "text": [
      "saving figures\n"
     ]
    },
    {
     "name": "stderr",
     "output_type": "stream",
     "text": [
      "100%|█████████████████████████████████████████| 150/150 [00:29<00:00,  5.05it/s]\n",
      "ffmpeg version 4.4.2-0ubuntu0.22.04.1 Copyright (c) 2000-2021 the FFmpeg developers\n",
      "  built with gcc 11 (Ubuntu 11.2.0-19ubuntu1)\n",
      "  configuration: --prefix=/usr --extra-version=0ubuntu0.22.04.1 --toolchain=hardened --libdir=/usr/lib/x86_64-linux-gnu --incdir=/usr/include/x86_64-linux-gnu --arch=amd64 --enable-gpl --disable-stripping --enable-gnutls --enable-ladspa --enable-libaom --enable-libass --enable-libbluray --enable-libbs2b --enable-libcaca --enable-libcdio --enable-libcodec2 --enable-libdav1d --enable-libflite --enable-libfontconfig --enable-libfreetype --enable-libfribidi --enable-libgme --enable-libgsm --enable-libjack --enable-libmp3lame --enable-libmysofa --enable-libopenjpeg --enable-libopenmpt --enable-libopus --enable-libpulse --enable-librabbitmq --enable-librubberband --enable-libshine --enable-libsnappy --enable-libsoxr --enable-libspeex --enable-libsrt --enable-libssh --enable-libtheora --enable-libtwolame --enable-libvidstab --enable-libvorbis --enable-libvpx --enable-libwebp --enable-libx265 --enable-libxml2 --enable-libxvid --enable-libzimg --enable-libzmq --enable-libzvbi --enable-lv2 --enable-omx --enable-openal --enable-opencl --enable-opengl --enable-sdl2 --enable-pocketsphinx --enable-librsvg --enable-libmfx --enable-libdc1394 --enable-libdrm --enable-libiec61883 --enable-chromaprint --enable-frei0r --enable-libx264 --enable-shared\n",
      "  libavutil      56. 70.100 / 56. 70.100\n",
      "  libavcodec     58.134.100 / 58.134.100\n",
      "  libavformat    58. 76.100 / 58. 76.100\n",
      "  libavdevice    58. 13.100 / 58. 13.100\n",
      "  libavfilter     7.110.100 /  7.110.100\n",
      "  libswscale      5.  9.100 /  5.  9.100\n",
      "  libswresample   3.  9.100 /  3.  9.100\n",
      "  libpostproc    55.  9.100 / 55.  9.100\n",
      "Input #0, image2, from '%d.png':\n",
      "  Duration: 00:00:06.00, start: 0.000000, bitrate: N/A\n",
      "  Stream #0:0: Video: png, rgba(pc), 1893x1928 [SAR 11811:11811 DAR 1893:1928], 25 fps, 25 tbr, 25 tbn, 25 tbc\n",
      "Stream mapping:\n",
      "  Stream #0:0 -> #0:0 (png (native) -> png (native))\n",
      "Press [q] to stop, [?] for help\n"
     ]
    },
    {
     "name": "stdout",
     "output_type": "stream",
     "text": [
      "Framerate is None fps\n",
      "Total Runtime is None s\n"
     ]
    },
    {
     "name": "stderr",
     "output_type": "stream",
     "text": [
      "[Parsed_palettegen_0 @ 0x5569c92c9000] 255(+1) colors generated out of 1516 colors; ratio=0.168206\n",
      "[Parsed_palettegen_0 @ 0x5569c92c9000] Dupped color: FFD90000\n",
      "[Parsed_palettegen_0 @ 0x5569c92c9000] Dupped color: FFFF3737\n",
      "Output #0, image2, to '../temp_palette_inplicit1.png':\n",
      "  Metadata:\n",
      "    encoder         : Lavf58.76.100\n",
      "  Stream #0:0: Video: png, rgba(pc, gbr/unknown/unknown, progressive), 16x16 [SAR 1:1 DAR 1:1], q=2-31, 200 kb/s, 25 fps, 25 tbn\n",
      "    Metadata:\n",
      "      encoder         : Lavc58.134.100 png\n",
      "frame=    1 fps=0.6 q=-0.0 Lsize=N/A time=00:00:00.04 bitrate=N/A speed=0.0244x    \n",
      "video:1kB audio:0kB subtitle:0kB other streams:0kB global headers:0kB muxing overhead: unknown\n",
      "ffmpeg version 4.4.2-0ubuntu0.22.04.1 Copyright (c) 2000-2021 the FFmpeg developers\n",
      "  built with gcc 11 (Ubuntu 11.2.0-19ubuntu1)\n",
      "  configuration: --prefix=/usr --extra-version=0ubuntu0.22.04.1 --toolchain=hardened --libdir=/usr/lib/x86_64-linux-gnu --incdir=/usr/include/x86_64-linux-gnu --arch=amd64 --enable-gpl --disable-stripping --enable-gnutls --enable-ladspa --enable-libaom --enable-libass --enable-libbluray --enable-libbs2b --enable-libcaca --enable-libcdio --enable-libcodec2 --enable-libdav1d --enable-libflite --enable-libfontconfig --enable-libfreetype --enable-libfribidi --enable-libgme --enable-libgsm --enable-libjack --enable-libmp3lame --enable-libmysofa --enable-libopenjpeg --enable-libopenmpt --enable-libopus --enable-libpulse --enable-librabbitmq --enable-librubberband --enable-libshine --enable-libsnappy --enable-libsoxr --enable-libspeex --enable-libsrt --enable-libssh --enable-libtheora --enable-libtwolame --enable-libvidstab --enable-libvorbis --enable-libvpx --enable-libwebp --enable-libx265 --enable-libxml2 --enable-libxvid --enable-libzimg --enable-libzmq --enable-libzvbi --enable-lv2 --enable-omx --enable-openal --enable-opencl --enable-opengl --enable-sdl2 --enable-pocketsphinx --enable-librsvg --enable-libmfx --enable-libdc1394 --enable-libdrm --enable-libiec61883 --enable-chromaprint --enable-frei0r --enable-libx264 --enable-shared\n",
      "  libavutil      56. 70.100 / 56. 70.100\n",
      "  libavcodec     58.134.100 / 58.134.100\n",
      "  libavformat    58. 76.100 / 58. 76.100\n",
      "  libavdevice    58. 13.100 / 58. 13.100\n",
      "  libavfilter     7.110.100 /  7.110.100\n",
      "  libswscale      5.  9.100 /  5.  9.100\n",
      "  libswresample   3.  9.100 /  3.  9.100\n",
      "  libpostproc    55.  9.100 / 55.  9.100\n",
      "Input #0, image2, from '%d.png':\n",
      "  Duration: 00:00:06.00, start: 0.000000, bitrate: N/A\n",
      "  Stream #0:0: Video: png, rgba(pc), 1893x1928 [SAR 11811:11811 DAR 1893:1928], 25 fps, 25 tbr, 25 tbn, 25 tbc\n",
      "Input #1, png_pipe, from '../temp_palette_inplicit1.png':\n",
      "  Duration: N/A, bitrate: N/A\n",
      "  Stream #1:0: Video: png, rgba(pc), 16x16 [SAR 1:1 DAR 1:1], 25 fps, 25 tbr, 25 tbn, 25 tbc\n",
      "Stream mapping:\n",
      "  Stream #0:0 (png) -> paletteuse:default\n",
      "  Stream #1:0 (png) -> paletteuse:palette\n",
      "  paletteuse -> Stream #0:0 (gif)\n",
      "Press [q] to stop, [?] for help\n",
      "[image2 @ 0x55c7dcf64840] Thread message queue blocking; consider raising the thread_queue_size option (current value: 8)\n",
      "Output #0, gif, to '../inplicit1.gif':\n",
      "  Metadata:\n",
      "    encoder         : Lavf58.76.100\n",
      "  Stream #0:0: Video: gif, pal8(pc, gbr/unknown/unknown, progressive), 1893x1928 [SAR 1:1 DAR 1893:1928], q=2-31, 200 kb/s, 25 fps, 100 tbn (default)\n",
      "    Metadata:\n",
      "      encoder         : Lavc58.134.100 gif\n",
      "frame=  150 fps= 14 q=-0.0 Lsize=    1360kB time=00:00:05.97 bitrate=1866.7kbits/s speed=0.573x    \n",
      "video:1360kB audio:0kB subtitle:0kB other streams:0kB global headers:0kB muxing overhead: 0.001436%\n"
     ]
    }
   ],
   "source": [
    "parameter_grid = np.linspace(0.25,0.001,150)\n",
    "savefigures(generator,parameter_grid,outdir='./inplicit1/')\n",
    "render('./inplicit1/','inplicit1','gif',cleanup_type='rm')"
   ]
  },
  {
   "cell_type": "code",
   "execution_count": null,
   "metadata": {},
   "outputs": [],
   "source": []
  },
  {
   "cell_type": "code",
   "execution_count": null,
   "metadata": {},
   "outputs": [],
   "source": []
  },
  {
   "cell_type": "code",
   "execution_count": null,
   "metadata": {},
   "outputs": [],
   "source": []
  },
  {
   "cell_type": "code",
   "execution_count": null,
   "metadata": {},
   "outputs": [],
   "source": []
  },
  {
   "cell_type": "markdown",
   "metadata": {},
   "source": [
    "## Define Integration Loop"
   ]
  },
  {
   "cell_type": "code",
   "execution_count": 5,
   "metadata": {
    "tags": []
   },
   "outputs": [],
   "source": [
    "def integrate_euler(system,dt,steps):\n",
    "    G, mvec, rvec, vvec = load_initials(system)\n",
    "    Rs = [rvec]\n",
    "    Vs = [vvec]\n",
    "\n",
    "    for i in range(steps-1):\n",
    "        #do fixed point iteration\n",
    "        trial_new_vvec_in = vvec\n",
    "        trial_new_rvec_in = rvec\n",
    "        err = np.inf \n",
    "        while err > 1e-12:\n",
    "            trial_new_vvec_out = vvec + dt*get_acclerations(rvec + dt*trial_new_vvec_in,mvec)\n",
    "            trial_new_rvec_out = rvec + dt*(vvec + dt*get_acclerations(trial_new_rvec_in,mvec))\n",
    "            err = np.max(np.abs([trial_new_vvec_in-trial_new_vvec_out,trial_new_rvec_in - trial_new_rvec_out]))\n",
    "            trial_new_vvec_in = trial_new_vvec_out\n",
    "            trial_new_rvec_in = trial_new_rvec_out\n",
    "        #this converges to new_vvec and new_rvec in 3-4 iterations\n",
    "        new_rvec = trial_new_rvec_in\n",
    "        new_vvec = trial_new_vvec_in\n",
    "        Rs.append(new_rvec)\n",
    "        Vs.append(new_vvec)\n",
    "        rvec = new_rvec\n",
    "        vvec = new_vvec\n",
    "\n",
    "    Rs = np.array(Rs)\n",
    "    Vs = np.array(Vs)\n",
    "    PE = get_PE(Rs,mvec)\n",
    "    KE = get_KE(Vs,mvec)\n",
    "    \n",
    "    Rs = np.array([Rs[j].T for j in range(len(Rs))])\n",
    "    Vs = np.array([Vs[j].T for j in range(len(Rs))])\n",
    "    return Rs,Vs,PE+KE"
   ]
  },
  {
   "cell_type": "markdown",
   "metadata": {},
   "source": [
    "## Preform Integration"
   ]
  },
  {
   "cell_type": "code",
   "execution_count": 6,
   "metadata": {
    "tags": []
   },
   "outputs": [],
   "source": [
    "dt = 0.001\n",
    "steps = 4000\n",
    "Rs,Vs,Es = integrate_euler('../../src/Earth-Sun.npy',dt,steps)\n",
    "xs,ys = Rs[:,:2,0].T\n",
    "xp,yp = Rs[:,:2,1].T\n",
    "times = np.linspace(0,steps*dt,steps)"
   ]
  },
  {
   "cell_type": "code",
   "execution_count": null,
   "metadata": {},
   "outputs": [],
   "source": []
  },
  {
   "cell_type": "markdown",
   "metadata": {},
   "source": [
    "## Generate Output "
   ]
  },
  {
   "cell_type": "code",
   "execution_count": 7,
   "metadata": {
    "tags": []
   },
   "outputs": [],
   "source": [
    "def makeplot(i):\n",
    "    xs,ys = Rs[:i,:2,0].T\n",
    "    xp,yp = Rs[:i,:2,1].T\n",
    "    relative_error = Es[:i]\n",
    "    times = np.linspace(0,steps*dt,steps)\n",
    "\n",
    "\n",
    "    fig,ax = plt.subplots(ncols=2,figsize=(20,10))\n",
    "    ax[0].scatter(xs[-1],ys[-1],c='k',marker='*',s=100)\n",
    "    ax[0].plot(xp,yp,c='k',alpha=0.3)\n",
    "    ax[0].scatter(xp[-1],yp[-1],c='k',s=100)\n",
    "    ax[0].set_xlabel(\"X [AU]\")\n",
    "    ax[0].set_ylabel(\"Y [AU]\")\n",
    "    ax[0].set_xlim(-1.25*np.max(Rs),1.25*np.max(Rs))\n",
    "    ax[0].set_ylim(-1.25*np.max(Rs),1.25*np.max(Rs))\n",
    "\n",
    "    ax[1].plot(times[:i],relative_error,c='k')\n",
    "    ax[1].set_ylabel(\"Energy(t)\")\n",
    "    ax[1].set_xlabel(\"Time [yrs]\")\n",
    "    ax[1].set_xlim(0,np.max(times))\n",
    "    ax[1].set_ylim(np.min(Es),np.max(Es))\n",
    "    plt.suptitle(r\"$\\Delta t = 0.001 [yrs]$\")\n",
    "    return fig"
   ]
  },
  {
   "cell_type": "code",
   "execution_count": 8,
   "metadata": {
    "tags": []
   },
   "outputs": [
    {
     "name": "stdout",
     "output_type": "stream",
     "text": [
      "saving figures\n"
     ]
    },
    {
     "name": "stderr",
     "output_type": "stream",
     "text": [
      "100%|███████████████████████████████████████████| 80/80 [00:42<00:00,  1.88it/s]\n",
      "ffmpeg version 4.4.2-0ubuntu0.22.04.1 Copyright (c) 2000-2021 the FFmpeg developers\n",
      "  built with gcc 11 (Ubuntu 11.2.0-19ubuntu1)\n",
      "  configuration: --prefix=/usr --extra-version=0ubuntu0.22.04.1 --toolchain=hardened --libdir=/usr/lib/x86_64-linux-gnu --incdir=/usr/include/x86_64-linux-gnu --arch=amd64 --enable-gpl --disable-stripping --enable-gnutls --enable-ladspa --enable-libaom --enable-libass --enable-libbluray --enable-libbs2b --enable-libcaca --enable-libcdio --enable-libcodec2 --enable-libdav1d --enable-libflite --enable-libfontconfig --enable-libfreetype --enable-libfribidi --enable-libgme --enable-libgsm --enable-libjack --enable-libmp3lame --enable-libmysofa --enable-libopenjpeg --enable-libopenmpt --enable-libopus --enable-libpulse --enable-librabbitmq --enable-librubberband --enable-libshine --enable-libsnappy --enable-libsoxr --enable-libspeex --enable-libsrt --enable-libssh --enable-libtheora --enable-libtwolame --enable-libvidstab --enable-libvorbis --enable-libvpx --enable-libwebp --enable-libx265 --enable-libxml2 --enable-libxvid --enable-libzimg --enable-libzmq --enable-libzvbi --enable-lv2 --enable-omx --enable-openal --enable-opencl --enable-opengl --enable-sdl2 --enable-pocketsphinx --enable-librsvg --enable-libmfx --enable-libdc1394 --enable-libdrm --enable-libiec61883 --enable-chromaprint --enable-frei0r --enable-libx264 --enable-shared\n",
      "  libavutil      56. 70.100 / 56. 70.100\n",
      "  libavcodec     58.134.100 / 58.134.100\n",
      "  libavformat    58. 76.100 / 58. 76.100\n",
      "  libavdevice    58. 13.100 / 58. 13.100\n",
      "  libavfilter     7.110.100 /  7.110.100\n",
      "  libswscale      5.  9.100 /  5.  9.100\n",
      "  libswresample   3.  9.100 /  3.  9.100\n",
      "  libpostproc    55.  9.100 / 55.  9.100\n",
      "Input #0, image2, from '%d.png':\n",
      "  Duration: 00:00:03.20, start: 0.000000, bitrate: N/A\n",
      "  Stream #0:0: Video: png, rgba(pc), 4969x2775 [SAR 11811:11811 DAR 4969:2775], 25 fps, 25 tbr, 25 tbn, 25 tbc\n",
      "Stream mapping:\n",
      "  Stream #0:0 -> #0:0 (png (native) -> png (native))\n",
      "Press [q] to stop, [?] for help\n"
     ]
    },
    {
     "name": "stdout",
     "output_type": "stream",
     "text": [
      "Framerate is None fps\n",
      "Total Runtime is None s\n"
     ]
    },
    {
     "name": "stderr",
     "output_type": "stream",
     "text": [
      "[Parsed_palettegen_0 @ 0x55a86f58eb80] 255(+1) colors generated out of 256 colors; ratio=0.996094\n",
      "Output #0, image2, to '../temp_palette_inplicit2.png':\n",
      "  Metadata:\n",
      "    encoder         : Lavf58.76.100\n",
      "  Stream #0:0: Video: png, rgba(pc, gbr/unknown/unknown, progressive), 16x16 [SAR 1:1 DAR 1:1], q=2-31, 200 kb/s, 25 fps, 25 tbn\n",
      "    Metadata:\n",
      "      encoder         : Lavc58.134.100 png\n",
      "frame=    1 fps=0.2 q=-0.0 Lsize=N/A time=00:00:00.04 bitrate=N/A speed=0.00985x    \n",
      "video:1kB audio:0kB subtitle:0kB other streams:0kB global headers:0kB muxing overhead: unknown\n",
      "ffmpeg version 4.4.2-0ubuntu0.22.04.1 Copyright (c) 2000-2021 the FFmpeg developers\n",
      "  built with gcc 11 (Ubuntu 11.2.0-19ubuntu1)\n",
      "  configuration: --prefix=/usr --extra-version=0ubuntu0.22.04.1 --toolchain=hardened --libdir=/usr/lib/x86_64-linux-gnu --incdir=/usr/include/x86_64-linux-gnu --arch=amd64 --enable-gpl --disable-stripping --enable-gnutls --enable-ladspa --enable-libaom --enable-libass --enable-libbluray --enable-libbs2b --enable-libcaca --enable-libcdio --enable-libcodec2 --enable-libdav1d --enable-libflite --enable-libfontconfig --enable-libfreetype --enable-libfribidi --enable-libgme --enable-libgsm --enable-libjack --enable-libmp3lame --enable-libmysofa --enable-libopenjpeg --enable-libopenmpt --enable-libopus --enable-libpulse --enable-librabbitmq --enable-librubberband --enable-libshine --enable-libsnappy --enable-libsoxr --enable-libspeex --enable-libsrt --enable-libssh --enable-libtheora --enable-libtwolame --enable-libvidstab --enable-libvorbis --enable-libvpx --enable-libwebp --enable-libx265 --enable-libxml2 --enable-libxvid --enable-libzimg --enable-libzmq --enable-libzvbi --enable-lv2 --enable-omx --enable-openal --enable-opencl --enable-opengl --enable-sdl2 --enable-pocketsphinx --enable-librsvg --enable-libmfx --enable-libdc1394 --enable-libdrm --enable-libiec61883 --enable-chromaprint --enable-frei0r --enable-libx264 --enable-shared\n",
      "  libavutil      56. 70.100 / 56. 70.100\n",
      "  libavcodec     58.134.100 / 58.134.100\n",
      "  libavformat    58. 76.100 / 58. 76.100\n",
      "  libavdevice    58. 13.100 / 58. 13.100\n",
      "  libavfilter     7.110.100 /  7.110.100\n",
      "  libswscale      5.  9.100 /  5.  9.100\n",
      "  libswresample   3.  9.100 /  3.  9.100\n",
      "  libpostproc    55.  9.100 / 55.  9.100\n",
      "Input #0, image2, from '%d.png':\n",
      "  Duration: 00:00:03.20, start: 0.000000, bitrate: N/A\n",
      "  Stream #0:0: Video: png, rgba(pc), 4969x2775 [SAR 11811:11811 DAR 4969:2775], 25 fps, 25 tbr, 25 tbn, 25 tbc\n",
      "Input #1, png_pipe, from '../temp_palette_inplicit2.png':\n",
      "  Duration: N/A, bitrate: N/A\n",
      "  Stream #1:0: Video: png, rgba(pc), 16x16 [SAR 1:1 DAR 1:1], 25 fps, 25 tbr, 25 tbn, 25 tbc\n",
      "Stream mapping:\n",
      "  Stream #0:0 (png) -> paletteuse:default\n",
      "  Stream #1:0 (png) -> paletteuse:palette\n",
      "  paletteuse -> Stream #0:0 (gif)\n",
      "Press [q] to stop, [?] for help\n",
      "[image2 @ 0x55ef9abc6840] Thread message queue blocking; consider raising the thread_queue_size option (current value: 8)\n",
      "Output #0, gif, to '../inplicit2.gif':\n",
      "  Metadata:\n",
      "    encoder         : Lavf58.76.100\n",
      "  Stream #0:0: Video: gif, pal8(pc, gbr/unknown/unknown, progressive), 4969x2775 [SAR 1:1 DAR 4969:2775], q=2-31, 200 kb/s, 25 fps, 100 tbn (default)\n",
      "    Metadata:\n",
      "      encoder         : Lavc58.134.100 gif\n",
      "frame=   80 fps=3.6 q=-0.0 Lsize=     550kB time=00:00:03.17 bitrate=1422.5kbits/s speed=0.141x    \n",
      "video:550kB audio:0kB subtitle:0kB other streams:0kB global headers:0kB muxing overhead: 0.003548%\n"
     ]
    }
   ],
   "source": [
    "parameter_grid = list(range(1,len(Rs),50)) #plot every 5th timestep\n",
    "savefigures(makeplot,parameter_grid,outdir='./inplicit2/')\n",
    "render('./inplicit2/','inplicit2','gif',cleanup_type='rm')"
   ]
  },
  {
   "cell_type": "code",
   "execution_count": null,
   "metadata": {},
   "outputs": [],
   "source": []
  },
  {
   "cell_type": "code",
   "execution_count": null,
   "metadata": {},
   "outputs": [],
   "source": []
  },
  {
   "cell_type": "code",
   "execution_count": null,
   "metadata": {},
   "outputs": [],
   "source": []
  },
  {
   "cell_type": "code",
   "execution_count": null,
   "metadata": {},
   "outputs": [],
   "source": []
  },
  {
   "cell_type": "code",
   "execution_count": null,
   "metadata": {},
   "outputs": [],
   "source": []
  },
  {
   "cell_type": "code",
   "execution_count": null,
   "metadata": {},
   "outputs": [],
   "source": []
  },
  {
   "cell_type": "code",
   "execution_count": null,
   "metadata": {},
   "outputs": [],
   "source": []
  },
  {
   "cell_type": "code",
   "execution_count": null,
   "metadata": {},
   "outputs": [],
   "source": []
  },
  {
   "cell_type": "code",
   "execution_count": null,
   "metadata": {},
   "outputs": [],
   "source": []
  },
  {
   "cell_type": "code",
   "execution_count": null,
   "metadata": {},
   "outputs": [],
   "source": [
    "\n"
   ]
  },
  {
   "cell_type": "code",
   "execution_count": null,
   "metadata": {},
   "outputs": [],
   "source": []
  },
  {
   "cell_type": "code",
   "execution_count": null,
   "metadata": {},
   "outputs": [],
   "source": []
  }
 ],
 "metadata": {
  "kernelspec": {
   "display_name": "Python 3 (ipykernel)",
   "language": "python",
   "name": "python3"
  },
  "language_info": {
   "codemirror_mode": {
    "name": "ipython",
    "version": 3
   },
   "file_extension": ".py",
   "mimetype": "text/x-python",
   "name": "python",
   "nbconvert_exporter": "python",
   "pygments_lexer": "ipython3",
   "version": "3.10.6"
  }
 },
 "nbformat": 4,
 "nbformat_minor": 4
}
