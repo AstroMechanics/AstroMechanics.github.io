{
 "cells": [
  {
   "cell_type": "markdown",
   "id": "6ca59111-053a-40df-87e3-69aecd897008",
   "metadata": {},
   "source": [
    "## This notebook does finite difference approaches for a few simple differential equations. "
   ]
  },
  {
   "cell_type": "code",
   "execution_count": 1,
   "id": "b3db0c34-8e4a-41c8-b3e5-767582622906",
   "metadata": {},
   "outputs": [],
   "source": [
    "import numpy as np\n",
    "import matplotlib\n",
    "import matplotlib.pyplot as plt\n",
    "from animate import *\n",
    "plt.style.use('dynamics_site')\n",
    "import sys\n",
    "sys.path.append('../../src/')\n",
    "from helper_functions import *"
   ]
  },
  {
   "cell_type": "markdown",
   "id": "875e6cb5-89fd-47aa-8ffd-aeeefdf0e58e",
   "metadata": {},
   "source": [
    "## Stiff example "
   ]
  },
  {
   "cell_type": "code",
   "execution_count": 2,
   "id": "3cb88ce5-67d7-4532-aef3-6fc47a2244d9",
   "metadata": {},
   "outputs": [],
   "source": [
    "#define findiff approx:\n",
    "def getsol(tmax,f0,dt):\n",
    "    y=[f0]\n",
    "    x=[0]\n",
    "    time=0\n",
    "    while time < tmax:\n",
    "        f_next = (1-15*dt)*f0\n",
    "        y.append(f0)\n",
    "        x.append(time)\n",
    "        f0 = f_next\n",
    "        time= time+dt\n",
    "    return x, y\n",
    "\n",
    "\n",
    "def generator(dt):\n",
    "    matplotlib.use('agg')\n",
    "    # Set up data\n",
    "    x = np.linspace(0, 2, 100)\n",
    "    y = np.e**(-15*x)\n",
    "    newx,newy = getsol(2,1,dt)\n",
    "    \n",
    "    fig,ax = plt.subplots(figsize=(7,7))\n",
    "    plt.plot(x,y,c='k',label='$e^{t}$',zorder=0)\n",
    "    plt.scatter(newx,newy,c='r',label='numerical f(t)',zorder=1)\n",
    "    plt.ylabel(\"f(t)\")\n",
    "    plt.xlabel('t')\n",
    "    plt.title('$\\Delta t =$'+str(np.round(dt,3)))\n",
    "    plt.legend(loc='lower right')\n",
    "    plt.ylim(-3,3)\n",
    "    plt.close() #stops figure from being shown\n",
    "    return fig"
   ]
  },
  {
   "cell_type": "code",
   "execution_count": null,
   "id": "d1a917e7-fb25-40d0-8466-2a1896066d6e",
   "metadata": {},
   "outputs": [],
   "source": []
  },
  {
   "cell_type": "code",
   "execution_count": 3,
   "id": "f7f555b7-b703-4708-92e6-d9aa957e4c3e",
   "metadata": {},
   "outputs": [
    {
     "data": {
      "text/plain": [
       "<Figure size 700x700 with 1 Axes>"
      ]
     },
     "execution_count": 3,
     "metadata": {},
     "output_type": "execute_result"
    }
   ],
   "source": [
    "fig=generator(0.01)\n",
    "fig"
   ]
  },
  {
   "cell_type": "code",
   "execution_count": 4,
   "id": "619a6864-821d-4c30-b8bc-479a6ef5a075",
   "metadata": {},
   "outputs": [
    {
     "name": "stdout",
     "output_type": "stream",
     "text": [
      "saving figures\n"
     ]
    },
    {
     "name": "stderr",
     "output_type": "stream",
     "text": [
      "100%|█████████████████████████████████████████| 150/150 [00:25<00:00,  5.95it/s]\n",
      "ffmpeg version 4.4.2-0ubuntu0.22.04.1 Copyright (c) 2000-2021 the FFmpeg developers\n",
      "  built with gcc 11 (Ubuntu 11.2.0-19ubuntu1)\n",
      "  configuration: --prefix=/usr --extra-version=0ubuntu0.22.04.1 --toolchain=hardened --libdir=/usr/lib/x86_64-linux-gnu --incdir=/usr/include/x86_64-linux-gnu --arch=amd64 --enable-gpl --disable-stripping --enable-gnutls --enable-ladspa --enable-libaom --enable-libass --enable-libbluray --enable-libbs2b --enable-libcaca --enable-libcdio --enable-libcodec2 --enable-libdav1d --enable-libflite --enable-libfontconfig --enable-libfreetype --enable-libfribidi --enable-libgme --enable-libgsm --enable-libjack --enable-libmp3lame --enable-libmysofa --enable-libopenjpeg --enable-libopenmpt --enable-libopus --enable-libpulse --enable-librabbitmq --enable-librubberband --enable-libshine --enable-libsnappy --enable-libsoxr --enable-libspeex --enable-libsrt --enable-libssh --enable-libtheora --enable-libtwolame --enable-libvidstab --enable-libvorbis --enable-libvpx --enable-libwebp --enable-libx265 --enable-libxml2 --enable-libxvid --enable-libzimg --enable-libzmq --enable-libzvbi --enable-lv2 --enable-omx --enable-openal --enable-opencl --enable-opengl --enable-sdl2 --enable-pocketsphinx --enable-librsvg --enable-libmfx --enable-libdc1394 --enable-libdrm --enable-libiec61883 --enable-chromaprint --enable-frei0r --enable-libx264 --enable-shared\n",
      "  libavutil      56. 70.100 / 56. 70.100\n",
      "  libavcodec     58.134.100 / 58.134.100\n",
      "  libavformat    58. 76.100 / 58. 76.100\n",
      "  libavdevice    58. 13.100 / 58. 13.100\n",
      "  libavfilter     7.110.100 /  7.110.100\n",
      "  libswscale      5.  9.100 /  5.  9.100\n",
      "  libswresample   3.  9.100 /  3.  9.100\n",
      "  libpostproc    55.  9.100 / 55.  9.100\n",
      "Input #0, image2, from '%d.png':\n",
      "  Duration: 00:00:06.00, start: 0.000000, bitrate: N/A\n",
      "  Stream #0:0: Video: png, rgba(pc), 1827x1928 [SAR 11811:11811 DAR 1827:1928], 25 fps, 25 tbr, 25 tbn, 25 tbc\n",
      "Stream mapping:\n",
      "  Stream #0:0 -> #0:0 (png (native) -> png (native))\n",
      "Press [q] to stop, [?] for help\n"
     ]
    },
    {
     "name": "stdout",
     "output_type": "stream",
     "text": [
      "Framerate is None fps\n",
      "Total Runtime is None s\n"
     ]
    },
    {
     "name": "stderr",
     "output_type": "stream",
     "text": [
      "[Parsed_palettegen_0 @ 0x55bd9014b840] 255(+1) colors generated out of 1250 colors; ratio=0.204000\n",
      "[Parsed_palettegen_0 @ 0x55bd9014b840] Dupped color: FF1F1F1F\n",
      "Output #0, image2, to '../temp_palette_example_stiff.png':\n",
      "  Metadata:\n",
      "    encoder         : Lavf58.76.100\n",
      "  Stream #0:0: Video: png, rgba(pc, gbr/unknown/unknown, progressive), 16x16 [SAR 1:1 DAR 1:1], q=2-31, 200 kb/s, 25 fps, 25 tbn\n",
      "    Metadata:\n",
      "      encoder         : Lavc58.134.100 png\n",
      "frame=    1 fps=0.7 q=-0.0 Lsize=N/A time=00:00:00.04 bitrate=N/A speed=0.0265x    \n",
      "video:1kB audio:0kB subtitle:0kB other streams:0kB global headers:0kB muxing overhead: unknown\n",
      "ffmpeg version 4.4.2-0ubuntu0.22.04.1 Copyright (c) 2000-2021 the FFmpeg developers\n",
      "  built with gcc 11 (Ubuntu 11.2.0-19ubuntu1)\n",
      "  configuration: --prefix=/usr --extra-version=0ubuntu0.22.04.1 --toolchain=hardened --libdir=/usr/lib/x86_64-linux-gnu --incdir=/usr/include/x86_64-linux-gnu --arch=amd64 --enable-gpl --disable-stripping --enable-gnutls --enable-ladspa --enable-libaom --enable-libass --enable-libbluray --enable-libbs2b --enable-libcaca --enable-libcdio --enable-libcodec2 --enable-libdav1d --enable-libflite --enable-libfontconfig --enable-libfreetype --enable-libfribidi --enable-libgme --enable-libgsm --enable-libjack --enable-libmp3lame --enable-libmysofa --enable-libopenjpeg --enable-libopenmpt --enable-libopus --enable-libpulse --enable-librabbitmq --enable-librubberband --enable-libshine --enable-libsnappy --enable-libsoxr --enable-libspeex --enable-libsrt --enable-libssh --enable-libtheora --enable-libtwolame --enable-libvidstab --enable-libvorbis --enable-libvpx --enable-libwebp --enable-libx265 --enable-libxml2 --enable-libxvid --enable-libzimg --enable-libzmq --enable-libzvbi --enable-lv2 --enable-omx --enable-openal --enable-opencl --enable-opengl --enable-sdl2 --enable-pocketsphinx --enable-librsvg --enable-libmfx --enable-libdc1394 --enable-libdrm --enable-libiec61883 --enable-chromaprint --enable-frei0r --enable-libx264 --enable-shared\n",
      "  libavutil      56. 70.100 / 56. 70.100\n",
      "  libavcodec     58.134.100 / 58.134.100\n",
      "  libavformat    58. 76.100 / 58. 76.100\n",
      "  libavdevice    58. 13.100 / 58. 13.100\n",
      "  libavfilter     7.110.100 /  7.110.100\n",
      "  libswscale      5.  9.100 /  5.  9.100\n",
      "  libswresample   3.  9.100 /  3.  9.100\n",
      "  libpostproc    55.  9.100 / 55.  9.100\n",
      "Input #0, image2, from '%d.png':\n",
      "  Duration: 00:00:06.00, start: 0.000000, bitrate: N/A\n",
      "  Stream #0:0: Video: png, rgba(pc), 1827x1928 [SAR 11811:11811 DAR 1827:1928], 25 fps, 25 tbr, 25 tbn, 25 tbc\n",
      "Input #1, png_pipe, from '../temp_palette_example_stiff.png':\n",
      "  Duration: N/A, bitrate: N/A\n",
      "  Stream #1:0: Video: png, rgba(pc), 16x16 [SAR 1:1 DAR 1:1], 25 fps, 25 tbr, 25 tbn, 25 tbc\n",
      "Stream mapping:\n",
      "  Stream #0:0 (png) -> paletteuse:default\n",
      "  Stream #1:0 (png) -> paletteuse:palette\n",
      "  paletteuse -> Stream #0:0 (gif)\n",
      "Press [q] to stop, [?] for help\n",
      "[image2 @ 0x55d5872b0840] Thread message queue blocking; consider raising the thread_queue_size option (current value: 8)\n",
      "Output #0, gif, to '../example_stiff.gif':\n",
      "  Metadata:\n",
      "    encoder         : Lavf58.76.100\n",
      "  Stream #0:0: Video: gif, pal8(pc, gbr/unknown/unknown, progressive), 1827x1928 [SAR 1:1 DAR 1827:1928], q=2-31, 200 kb/s, 25 fps, 100 tbn (default)\n",
      "    Metadata:\n",
      "      encoder         : Lavc58.134.100 gif\n",
      "frame=  150 fps= 15 q=-0.0 Lsize=    1093kB time=00:00:05.97 bitrate=1500.2kbits/s speed=0.608x    \n",
      "video:1093kB audio:0kB subtitle:0kB other streams:0kB global headers:0kB muxing overhead: 0.001787%\n"
     ]
    }
   ],
   "source": [
    "parameter_grid = np.linspace(0.25,0.001,150)\n",
    "savefigures(generator,parameter_grid,outdir='./example_stiff/')\n",
    "render('./example_stiff/','example_stiff','gif',cleanup_type='rm')"
   ]
  },
  {
   "cell_type": "markdown",
   "id": "91b71a46-5259-4506-82ec-ea7cabe274f3",
   "metadata": {},
   "source": [
    "## Some still solutions"
   ]
  },
  {
   "cell_type": "code",
   "execution_count": 5,
   "id": "202ee3f2-c9ab-4cb5-ad60-4d812e7d5e22",
   "metadata": {},
   "outputs": [],
   "source": [
    "# Set up data\n",
    "x = np.linspace(0, 2, 100)\n",
    "y = np.e**(-15*x)\n",
    "\n",
    "fig,ax = plt.subplots(figsize=(7,7))\n",
    "plt.plot(x,y,c='k',label='$e^{t}$',zorder=0)\n",
    "newx,newy = getsol(2,1,0.25)\n",
    "plt.plot(newx,newy,c='r',label=r'$\\Delta t = 1/5$',zorder=1,ls='--',lw=3)\n",
    "newx,newy = getsol(2,1,0.125)\n",
    "plt.plot(newx,newy,c='g',label=r'$\\Delta t = 1/10$',zorder=1,ls='--',lw=3)\n",
    "newx,newy = getsol(2,1,0.0625)\n",
    "plt.plot(newx,newy,c='b',label=r'$\\Delta t = 1/20$',zorder=1,ls='--',lw=3)\n",
    "plt.ylabel(\"f(t)\")\n",
    "plt.xlabel('t')\n",
    "plt.legend(loc='lower right')\n",
    "plt.ylim(-3,3)\n",
    "plt.savefig('single_examples.png')"
   ]
  },
  {
   "cell_type": "code",
   "execution_count": null,
   "id": "d92d87c1-d4f9-4831-b377-21513e5e91db",
   "metadata": {},
   "outputs": [],
   "source": []
  },
  {
   "cell_type": "code",
   "execution_count": null,
   "id": "5e340cf6-6589-4673-adde-c514187491fe",
   "metadata": {},
   "outputs": [],
   "source": []
  },
  {
   "cell_type": "markdown",
   "id": "49719b48-cddd-421d-9720-db92f5278ff4",
   "metadata": {},
   "source": [
    "## Nbody Comet Examples"
   ]
  },
  {
   "cell_type": "code",
   "execution_count": 6,
   "id": "dfa8005d-3b8a-4224-a7b2-a3c090ff1fd8",
   "metadata": {},
   "outputs": [],
   "source": [
    "def integrate_rk2_midpoint(system,dt,steps):\n",
    "    G, mvec, rvec, vvec = load_initials(system)\n",
    "    Rs = [rvec]\n",
    "    Vs = [vvec]\n",
    "    for i in range(steps-1):\n",
    "        k1_vi = get_acclerations(rvec,mvec)\n",
    "        k1_ri = vvec\n",
    "\n",
    "        k2_vi = get_acclerations(rvec+(k1_ri*dt/2),mvec)\n",
    "        k2_ri = vvec+(k1_vi*dt/2)\n",
    "\n",
    "\n",
    "        new_vvec = vvec + dt*(1.0*k2_vi)\n",
    "        new_rvec = rvec + dt*(1.0*k2_ri)\n",
    "\n",
    "        Rs.append(new_rvec)\n",
    "        Vs.append(new_vvec)\n",
    "        rvec = new_rvec\n",
    "        vvec = new_vvec\n",
    "\n",
    "    Rs = np.array(Rs)\n",
    "    Vs = np.array(Vs)\n",
    "    PE = get_PE(Rs,mvec)\n",
    "    KE = get_KE(Vs,mvec)\n",
    "    \n",
    "    Rs = np.array([Rs[j].T for j in range(len(Rs))])\n",
    "    Vs = np.array([Vs[j].T for j in range(len(Rs))])\n",
    "    return Rs,Vs,PE+KE\n"
   ]
  },
  {
   "cell_type": "code",
   "execution_count": 7,
   "id": "3c6d4061-69b5-4443-ad7b-39df6e2d9d56",
   "metadata": {},
   "outputs": [],
   "source": [
    "#preform integration 1\n",
    "dt1 = 0.01\n",
    "steps1 = 20000\n",
    "Rs1,Vs1,Es1 = integrate_rk2_midpoint('../../src/Comet-Sun.npy',dt1,steps1)\n",
    "xs1,ys1 = Rs1[:,:2,0].T\n",
    "xp1,yp1 = Rs1[:,:2,1].T\n",
    "times1 = np.linspace(0,steps1*dt1,steps1)"
   ]
  },
  {
   "cell_type": "code",
   "execution_count": null,
   "id": "0bee04f1-6b05-46ac-83f9-df7fb3d0a21c",
   "metadata": {},
   "outputs": [],
   "source": []
  },
  {
   "cell_type": "code",
   "execution_count": 8,
   "id": "fb0488eb-379c-46ac-ba26-86976d9c2fc8",
   "metadata": {},
   "outputs": [],
   "source": [
    "#preform integration 2\n",
    "dt2 = 0.05\n",
    "steps2 = 4000\n",
    "Rs2,Vs2,Es2 = integrate_rk2_midpoint('../../src/Comet-Sun.npy',dt2,steps2)\n",
    "xs2,ys2 = Rs2[:,:2,0].T\n",
    "xp2,yp2 = Rs2[:,:2,1].T\n",
    "times2 = np.linspace(0,steps2*dt2,steps2)"
   ]
  },
  {
   "cell_type": "code",
   "execution_count": null,
   "id": "52d8019f-c0c3-47de-a3dc-ca0a86718b78",
   "metadata": {},
   "outputs": [],
   "source": []
  },
  {
   "cell_type": "code",
   "execution_count": 9,
   "id": "57a88dfb-ffaf-40cf-936f-b9c4b8b9a8e6",
   "metadata": {},
   "outputs": [],
   "source": [
    "def makeplot(i):\n",
    "    timegrid = np.linspace(0,np.max(times2),1000)\n",
    "    ind1 = np.where(times1 < timegrid[i])\n",
    "    ind2 = np.where(times2 < timegrid[i])\n",
    "\n",
    "    fig,ax = plt.subplots(ncols=3,figsize=(30,10))\n",
    "    ax[0].scatter(xs1[-1],ys1[-1],c='k',marker='*',s=100)\n",
    "    ax[0].plot(xp1[ind1],yp1[ind1],c='r',alpha=0.3)\n",
    "    ax[0].scatter(xp1[np.max(ind1)],yp1[np.max(ind1)],c='k',s=100)\n",
    "    ax[0].set_xlabel(\"X [AU]\")\n",
    "    ax[0].set_ylabel(\"Y [AU]\")\n",
    "    ax[0].set_xlim(-1.25*np.max(abs(Rs1)),1.25*np.max(abs(Rs1)))\n",
    "    ax[0].set_ylim(-1.25*np.max(abs(Rs1)),1.25*np.max(abs(Rs1)))\n",
    "    ax[0].set_title(r\"$\\Delta t = 0.01 [yrs]$\")\n",
    "\n",
    "    ax[1].scatter(xs2[-1],ys2[-1],c='k',marker='*',s=100)\n",
    "    ax[1].plot(xp2[ind2],yp2[ind2],c='k',alpha=0.3)\n",
    "    ax[1].scatter(xp2[np.max(ind2)],yp2[np.max(ind2)],c='k',s=100)\n",
    "    ax[1].set_xlabel(\"X [AU]\")\n",
    "    ax[1].set_ylabel(\"Y [AU]\")\n",
    "    ax[1].set_xlim(-1.25*np.max(abs(Rs1)),1.25*np.max(abs(Rs1)))\n",
    "    ax[1].set_ylim(-1.25*np.max(abs(Rs1)),1.25*np.max(abs(Rs1)))\n",
    "    ax[1].set_title(r\"$\\Delta t = 0.05 [yrs]$\")\n",
    "\n",
    "    ax[2].plot(times1[ind1],Es1[ind1],c='r',alpha=0.3)\n",
    "    ax[2].plot(times2[ind2],Es2[ind2],c='k',alpha=0.3)\n",
    "    ax[2].set_ylabel(\"Energy(t)\")\n",
    "    ax[2].set_xlabel(\"Time [yrs]\")\n",
    "    ax[2].set_xlim(0,np.max(np.concatenate([times1,times2])))\n",
    "    Es = np.concatenate([Es1,Es2])\n",
    "    ax[2].set_ylim(np.min(Es),np.max(Es))\n",
    "    ax[2].set_title(r\"$Energy(t)$\")\n",
    "    return fig"
   ]
  },
  {
   "cell_type": "code",
   "execution_count": 11,
   "id": "d1e8ccfb-de6b-44f7-922c-ec5fde9acb29",
   "metadata": {},
   "outputs": [
    {
     "name": "stdout",
     "output_type": "stream",
     "text": [
      "saving figures\n"
     ]
    },
    {
     "name": "stderr",
     "output_type": "stream",
     "text": [
      "100%|█████████████████████████████████████████| 999/999 [12:23<00:00,  1.34it/s]\n",
      "ffmpeg version 4.4.2-0ubuntu0.22.04.1 Copyright (c) 2000-2021 the FFmpeg developers\n",
      "  built with gcc 11 (Ubuntu 11.2.0-19ubuntu1)\n",
      "  configuration: --prefix=/usr --extra-version=0ubuntu0.22.04.1 --toolchain=hardened --libdir=/usr/lib/x86_64-linux-gnu --incdir=/usr/include/x86_64-linux-gnu --arch=amd64 --enable-gpl --disable-stripping --enable-gnutls --enable-ladspa --enable-libaom --enable-libass --enable-libbluray --enable-libbs2b --enable-libcaca --enable-libcdio --enable-libcodec2 --enable-libdav1d --enable-libflite --enable-libfontconfig --enable-libfreetype --enable-libfribidi --enable-libgme --enable-libgsm --enable-libjack --enable-libmp3lame --enable-libmysofa --enable-libopenjpeg --enable-libopenmpt --enable-libopus --enable-libpulse --enable-librabbitmq --enable-librubberband --enable-libshine --enable-libsnappy --enable-libsoxr --enable-libspeex --enable-libsrt --enable-libssh --enable-libtheora --enable-libtwolame --enable-libvidstab --enable-libvorbis --enable-libvpx --enable-libwebp --enable-libx265 --enable-libxml2 --enable-libxvid --enable-libzimg --enable-libzmq --enable-libzvbi --enable-lv2 --enable-omx --enable-openal --enable-opencl --enable-opengl --enable-sdl2 --enable-pocketsphinx --enable-librsvg --enable-libmfx --enable-libdc1394 --enable-libdrm --enable-libiec61883 --enable-chromaprint --enable-frei0r --enable-libx264 --enable-shared\n",
      "  libavutil      56. 70.100 / 56. 70.100\n",
      "  libavcodec     58.134.100 / 58.134.100\n",
      "  libavformat    58. 76.100 / 58. 76.100\n",
      "  libavdevice    58. 13.100 / 58. 13.100\n",
      "  libavfilter     7.110.100 /  7.110.100\n",
      "  libswscale      5.  9.100 /  5.  9.100\n",
      "  libswresample   3.  9.100 /  3.  9.100\n",
      "  libpostproc    55.  9.100 / 55.  9.100\n"
     ]
    },
    {
     "name": "stdout",
     "output_type": "stream",
     "text": [
      "Framerate is None fps\n",
      "Total Runtime is None s\n"
     ]
    },
    {
     "name": "stderr",
     "output_type": "stream",
     "text": [
      "Input #0, image2, from '%d.png':\n",
      "  Duration: 00:00:39.96, start: 0.000000, bitrate: N/A\n",
      "  Stream #0:0: Video: png, rgba(pc), 7283x2625 [SAR 11811:11811 DAR 7283:2625], 25 fps, 25 tbr, 25 tbn, 25 tbc\n",
      "Stream mapping:\n",
      "  Stream #0:0 -> #0:0 (png (native) -> png (native))\n",
      "Press [q] to stop, [?] for help\n",
      "[Parsed_palettegen_0 @ 0x5585c8126f80] 255(+1) colors generated out of 2855 colors; ratio=0.089317\n",
      "[Parsed_palettegen_0 @ 0x5585c8126f80] Dupped color: FF0C0C0C\n",
      "[Parsed_palettegen_0 @ 0x5585c8126f80] Dupped color: FFCDA0A0\n",
      "[Parsed_palettegen_0 @ 0x5585c8126f80] Dupped color: FFCDA7A7\n",
      "[Parsed_palettegen_0 @ 0x5585c8126f80] Dupped color: FFFFCCCC\n",
      "[Parsed_palettegen_0 @ 0x5585c8126f80] Dupped color: FFFFDFDF\n",
      "[Parsed_palettegen_0 @ 0x5585c8126f80] Dupped color: FFFFE6E6\n",
      "Output #0, image2, to '../temp_palette_comet.png':\n",
      "  Metadata:\n",
      "    encoder         : Lavf58.76.100\n",
      "  Stream #0:0: Video: png, rgba(pc, gbr/unknown/unknown, progressive), 16x16 [SAR 1:1 DAR 1:1], q=2-31, 200 kb/s, 25 fps, 25 tbn\n",
      "    Metadata:\n",
      "      encoder         : Lavc58.134.100 png\n",
      "frame=    1 fps=0.0 q=-0.0 Lsize=N/A time=00:00:00.04 bitrate=N/A speed=0.000763x    \n",
      "video:1kB audio:0kB subtitle:0kB other streams:0kB global headers:0kB muxing overhead: unknown\n",
      "ffmpeg version 4.4.2-0ubuntu0.22.04.1 Copyright (c) 2000-2021 the FFmpeg developers\n",
      "  built with gcc 11 (Ubuntu 11.2.0-19ubuntu1)\n",
      "  configuration: --prefix=/usr --extra-version=0ubuntu0.22.04.1 --toolchain=hardened --libdir=/usr/lib/x86_64-linux-gnu --incdir=/usr/include/x86_64-linux-gnu --arch=amd64 --enable-gpl --disable-stripping --enable-gnutls --enable-ladspa --enable-libaom --enable-libass --enable-libbluray --enable-libbs2b --enable-libcaca --enable-libcdio --enable-libcodec2 --enable-libdav1d --enable-libflite --enable-libfontconfig --enable-libfreetype --enable-libfribidi --enable-libgme --enable-libgsm --enable-libjack --enable-libmp3lame --enable-libmysofa --enable-libopenjpeg --enable-libopenmpt --enable-libopus --enable-libpulse --enable-librabbitmq --enable-librubberband --enable-libshine --enable-libsnappy --enable-libsoxr --enable-libspeex --enable-libsrt --enable-libssh --enable-libtheora --enable-libtwolame --enable-libvidstab --enable-libvorbis --enable-libvpx --enable-libwebp --enable-libx265 --enable-libxml2 --enable-libxvid --enable-libzimg --enable-libzmq --enable-libzvbi --enable-lv2 --enable-omx --enable-openal --enable-opencl --enable-opengl --enable-sdl2 --enable-pocketsphinx --enable-librsvg --enable-libmfx --enable-libdc1394 --enable-libdrm --enable-libiec61883 --enable-chromaprint --enable-frei0r --enable-libx264 --enable-shared\n",
      "  libavutil      56. 70.100 / 56. 70.100\n",
      "  libavcodec     58.134.100 / 58.134.100\n",
      "  libavformat    58. 76.100 / 58. 76.100\n",
      "  libavdevice    58. 13.100 / 58. 13.100\n",
      "  libavfilter     7.110.100 /  7.110.100\n",
      "  libswscale      5.  9.100 /  5.  9.100\n",
      "  libswresample   3.  9.100 /  3.  9.100\n",
      "  libpostproc    55.  9.100 / 55.  9.100\n",
      "Input #0, image2, from '%d.png':\n",
      "  Duration: 00:00:39.96, start: 0.000000, bitrate: N/A\n",
      "  Stream #0:0: Video: png, rgba(pc), 7283x2625 [SAR 11811:11811 DAR 7283:2625], 25 fps, 25 tbr, 25 tbn, 25 tbc\n",
      "Input #1, png_pipe, from '../temp_palette_comet.png':\n",
      "  Duration: N/A, bitrate: N/A\n",
      "  Stream #1:0: Video: png, rgba(pc), 16x16 [SAR 1:1 DAR 1:1], 25 fps, 25 tbr, 25 tbn, 25 tbc\n",
      "Stream mapping:\n",
      "  Stream #0:0 (png) -> paletteuse:default\n",
      "  Stream #1:0 (png) -> paletteuse:palette\n",
      "  paletteuse -> Stream #0:0 (gif)\n",
      "Press [q] to stop, [?] for help\n",
      "[image2 @ 0x56311dbb0840] Thread message queue blocking; consider raising the thread_queue_size option (current value: 8)\n",
      "Output #0, gif, to '../comet.gif':\n",
      "  Metadata:\n",
      "    encoder         : Lavf58.76.100\n",
      "  Stream #0:0: Video: gif, pal8(pc, gbr/unknown/unknown, progressive), 7283x2625 [SAR 1:1 DAR 7283:2625], q=2-31, 200 kb/s, 25 fps, 100 tbn (default)\n",
      "    Metadata:\n",
      "      encoder         : Lavc58.134.100 gif\n",
      "frame=  999 fps=2.7 q=-0.0 Lsize=    5922kB time=00:00:39.93 bitrate=1214.9kbits/s speed=0.107x    \n",
      "video:5922kB audio:0kB subtitle:0kB other streams:0kB global headers:0kB muxing overhead: 0.000330%\n"
     ]
    }
   ],
   "source": [
    "parameter_grid = list(range(1,1000)) #plot every 5th timestep\n",
    "savefigures(makeplot,parameter_grid,outdir='./comet/')\n",
    "render('./comet/','comet','gif',cleanup_type='rm')"
   ]
  },
  {
   "cell_type": "code",
   "execution_count": null,
   "id": "9cf828b9-4c51-4ca0-b202-c0777b64b814",
   "metadata": {},
   "outputs": [],
   "source": []
  }
 ],
 "metadata": {
  "kernelspec": {
   "display_name": "Python 3 (ipykernel)",
   "language": "python",
   "name": "python3"
  },
  "language_info": {
   "codemirror_mode": {
    "name": "ipython",
    "version": 3
   },
   "file_extension": ".py",
   "mimetype": "text/x-python",
   "name": "python",
   "nbconvert_exporter": "python",
   "pygments_lexer": "ipython3",
   "version": "3.10.6"
  }
 },
 "nbformat": 4,
 "nbformat_minor": 5
}
