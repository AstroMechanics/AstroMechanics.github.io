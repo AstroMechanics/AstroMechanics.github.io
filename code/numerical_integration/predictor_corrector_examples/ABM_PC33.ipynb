{
 "cells": [
  {
   "cell_type": "code",
   "execution_count": 5,
   "metadata": {
    "tags": []
   },
   "outputs": [],
   "source": [
    "import numpy as np\n",
    "import matplotlib.pyplot as plt\n",
    "import matplotlib\n",
    "#from animate import *\n",
    "import sys\n",
    "sys.path.append('../src/')\n",
    "from helper_functions import *\n",
    "plt.style.use('dynamics_site')"
   ]
  },
  {
   "cell_type": "markdown",
   "metadata": {},
   "source": [
    "## Define Integration Loop"
   ]
  },
  {
   "cell_type": "code",
   "execution_count": null,
   "metadata": {},
   "outputs": [],
   "source": []
  },
  {
   "cell_type": "code",
   "execution_count": 6,
   "metadata": {
    "tags": []
   },
   "outputs": [],
   "source": [
    "def integrate_PC_ABM33(system,dt,steps):\n",
    "    G, mvec, rvec, vvec = load_initials(system)\n",
    "    Rs = [rvec]\n",
    "    Vs = [vvec]\n",
    "    \n",
    "    #we compute the first steps with forward euler\n",
    "    new_vvec = vvec + dt*get_acclerations(Rs[0],mvec)\n",
    "    new_rvec = rvec + dt*Vs[0]\n",
    "    Rs.append(new_rvec)\n",
    "    Vs.append(new_vvec)\n",
    "    new_vvec = vvec + dt*get_acclerations(Rs[1],mvec)\n",
    "    new_rvec = rvec + dt*Vs[1]\n",
    "    Rs.append(new_rvec)\n",
    "    Vs.append(new_vvec)\n",
    "\n",
    "    for i in range(steps-1):\n",
    "        #do prediction with AB\n",
    "        new_vvec_prime = vvec + (dt/12)*(23*get_acclerations(Rs[-1],mvec) - 16*get_acclerations(Rs[-2],mvec) + 5*get_acclerations(Rs[-3],mvec))\n",
    "        new_rvec_prime = rvec + (dt/12)*(23*Vs[-1] - 16*Vs[-2] + 5*Vs[-3])\n",
    "        #now do correction with AM\n",
    "        new_vvec = vvec + (dt/12)*(5*get_acclerations(new_rvec_prime,mvec) + 8*get_acclerations(Rs[-1],mvec) - 1*get_acclerations(Rs[-2],mvec) )\n",
    "        new_rvec = rvec + (dt/12)*(5*new_vvec_prime + 8*Vs[-1] - 1*Vs[-2])\n",
    "\n",
    "        Rs.append(new_rvec)\n",
    "        Vs.append(new_vvec)\n",
    "        rvec = new_rvec\n",
    "        vvec = new_vvec\n",
    "\n",
    "    Rs = np.array(Rs)\n",
    "    Vs = np.array(Vs)\n",
    "    PE = get_PE(Rs,mvec)\n",
    "    KE = get_KE(Vs,mvec)\n",
    "    \n",
    "    Rs = np.array([Rs[j].T for j in range(len(Rs))])\n",
    "    Vs = np.array([Vs[j].T for j in range(len(Rs))])\n",
    "    return Rs,Vs,PE+KE"
   ]
  },
  {
   "cell_type": "markdown",
   "metadata": {},
   "source": [
    "## Preform Integration"
   ]
  },
  {
   "cell_type": "code",
   "execution_count": 7,
   "metadata": {
    "tags": []
   },
   "outputs": [],
   "source": [
    "dt = 0.001\n",
    "steps = 20000\n",
    "Rs,Vs,Es = integrate_PC_ABM33('../src/Earth-Sun.npy',dt,steps)\n",
    "xs,ys = Rs[:,:2,0].T\n",
    "xp,yp = Rs[:,:2,1].T\n",
    "times = np.linspace(0,steps*dt,steps)"
   ]
  },
  {
   "cell_type": "code",
   "execution_count": 8,
   "metadata": {},
   "outputs": [
    {
     "data": {
      "text/plain": [
       "<matplotlib.collections.PathCollection at 0x7f297dd8bdc0>"
      ]
     },
     "execution_count": 8,
     "metadata": {},
     "output_type": "execute_result"
    },
    {
     "data": {
      "image/png": "[encoded data removed]",
      "text/plain": [
       "<Figure size 500x500 with 1 Axes>"
      ]
     },
     "metadata": {},
     "output_type": "display_data"
    }
   ],
   "source": [
    "plt.scatter(xp,yp)"
   ]
  },
  {
   "cell_type": "code",
   "execution_count": null,
   "metadata": {
    "tags": []
   },
   "outputs": [],
   "source": []
  },
  {
   "cell_type": "markdown",
   "metadata": {},
   "source": [
    "## Generate Output "
   ]
  },
  {
   "cell_type": "code",
   "execution_count": 4,
   "metadata": {
    "execution": {
     "iopub.execute_input": "2023-03-27T07:58:30.066758Z",
     "iopub.status.busy": "2023-03-27T07:58:30.066475Z",
     "iopub.status.idle": "2023-03-27T07:58:30.072472Z",
     "shell.execute_reply": "2023-03-27T07:58:30.071915Z"
    }
   },
   "outputs": [],
   "source": [
    "def makeplot(i):\n",
    "    xs,ys = Rs[:i,:2,0].T\n",
    "    xp,yp = Rs[:i,:2,1].T\n",
    "    relative_error = Es[:i]\n",
    "    times = np.linspace(0,steps*dt,steps)\n",
    "\n",
    "\n",
    "    fig,ax = plt.subplots(ncols=2,figsize=(20,10))\n",
    "    ax[0].scatter(xs[-1],ys[-1],c='k',marker='*',s=100)\n",
    "    ax[0].plot(xp,yp,c='k',alpha=0.3)\n",
    "    ax[0].scatter(xp[-1],yp[-1],c='k',s=100)\n",
    "    ax[0].set_xlabel(\"X [AU]\")\n",
    "    ax[0].set_ylabel(\"Y [AU]\")\n",
    "    ax[0].set_xlim(-1.25*np.max(Rs),1.25*np.max(Rs))\n",
    "    ax[0].set_ylim(-1.25*np.max(Rs),1.25*np.max(Rs))\n",
    "\n",
    "    ax[1].plot(times[:i],relative_error,c='k')\n",
    "    ax[1].set_ylabel(\"Energy(t)\")\n",
    "    ax[1].set_xlabel(\"Time [yrs]\")\n",
    "    ax[1].set_xlim(0,np.max(times))\n",
    "    ax[1].set_ylim(np.min(Es),np.max(Es))\n",
    "    plt.suptitle(r\"$\\Delta t = 0.001 [yrs]$\")\n",
    "    return fig"
   ]
  },
  {
   "cell_type": "code",
   "execution_count": 5,
   "metadata": {
    "execution": {
     "iopub.execute_input": "2023-03-27T07:58:30.075464Z",
     "iopub.status.busy": "2023-03-27T07:58:30.075251Z",
     "iopub.status.idle": "2023-03-27T08:08:42.753657Z",
     "shell.execute_reply": "2023-03-27T08:08:42.752174Z"
    }
   },
   "outputs": [
    {
     "name": "stdout",
     "output_type": "stream",
     "text": [
      "saving figures\n"
     ]
    },
    {
     "name": "stderr",
     "output_type": "stream",
     "text": [
      "100%|█████████████████████████████████████████| 400/400 [06:16<00:00,  1.06it/s]\n"
     ]
    },
    {
     "name": "stdout",
     "output_type": "stream",
     "text": [
      "Framerate is 20 fps\n",
      "Total Runtime is 20 s\n"
     ]
    },
    {
     "name": "stderr",
     "output_type": "stream",
     "text": [
      "ffmpeg version 4.4.2-0ubuntu0.22.04.1 Copyright (c) 2000-2021 the FFmpeg developers\n",
      "  built with gcc 11 (Ubuntu 11.2.0-19ubuntu1)\n",
      "  configuration: --prefix=/usr --extra-version=0ubuntu0.22.04.1 --toolchain=hardened --libdir=/usr/lib/x86_64-linux-gnu --incdir=/usr/include/x86_64-linux-gnu --arch=amd64 --enable-gpl --disable-stripping --enable-gnutls --enable-ladspa --enable-libaom --enable-libass --enable-libbluray --enable-libbs2b --enable-libcaca --enable-libcdio --enable-libcodec2 --enable-libdav1d --enable-libflite --enable-libfontconfig --enable-libfreetype --enable-libfribidi --enable-libgme --enable-libgsm --enable-libjack --enable-libmp3lame --enable-libmysofa --enable-libopenjpeg --enable-libopenmpt --enable-libopus --enable-libpulse --enable-librabbitmq --enable-librubberband --enable-libshine --enable-libsnappy --enable-libsoxr --enable-libspeex --enable-libsrt --enable-libssh --enable-libtheora --enable-libtwolame --enable-libvidstab --enable-libvorbis --enable-libvpx --enable-libwebp --enable-libx265 --enable-libxml2 --enable-libxvid --enable-libzimg --enable-libzmq --enable-libzvbi --enable-lv2 --enable-omx --enable-openal --enable-opencl --enable-opengl --enable-sdl2 --enable-pocketsphinx --enable-librsvg --enable-libmfx --enable-libdc1394 --enable-libdrm --enable-libiec61883 --enable-chromaprint --enable-frei0r --enable-libx264 --enable-shared\n",
      "  libavutil      56. 70.100 / 56. 70.100\n",
      "  libavcodec     58.134.100 / 58.134.100\n",
      "  libavformat    58. 76.100 / 58. 76.100\n",
      "  libavdevice    58. 13.100 / 58. 13.100\n",
      "  libavfilter     7.110.100 /  7.110.100\n",
      "  libswscale      5.  9.100 /  5.  9.100\n",
      "  libswresample   3.  9.100 /  3.  9.100\n",
      "  libpostproc    55.  9.100 / 55.  9.100\n",
      "Input #0, image2, from '%d.png':\n",
      "  Duration: 00:00:16.00, start: 0.000000, bitrate: N/A\n",
      "  Stream #0:0: Video: png, rgba(pc), 5051x2835 [SAR 11811:11811 DAR 5051:2835], 25 fps, 25 tbr, 25 tbn, 25 tbc\n",
      "Stream mapping:\n",
      "  Stream #0:0 -> #0:0 (png (native) -> png (native))\n",
      "Press [q] to stop, [?] for help\n",
      "[Parsed_palettegen_0 @ 0x56322ea04e40] 255(+1) colors generated out of 256 colors; ratio=0.996094\n",
      "Output #0, image2, to '../temp_palette_AB2.png':\n",
      "  Metadata:\n",
      "    encoder         : Lavf58.76.100\n",
      "  Stream #0:0: Video: png, rgba(pc, gbr/unknown/unknown, progressive), 16x16 [SAR 1:1 DAR 1:1], q=2-31, 200 kb/s, 25 fps, 25 tbn\n",
      "    Metadata:\n",
      "      encoder         : Lavc58.134.100 png\n",
      "frame=    1 fps=0.0 q=-0.0 Lsize=N/A time=00:00:00.04 bitrate=N/A speed=0.00153x    \n",
      "video:1kB audio:0kB subtitle:0kB other streams:0kB global headers:0kB muxing overhead: unknown\n",
      "ffmpeg version 4.4.2-0ubuntu0.22.04.1 Copyright (c) 2000-2021 the FFmpeg developers\n",
      "  built with gcc 11 (Ubuntu 11.2.0-19ubuntu1)\n",
      "  configuration: --prefix=/usr --extra-version=0ubuntu0.22.04.1 --toolchain=hardened --libdir=/usr/lib/x86_64-linux-gnu --incdir=/usr/include/x86_64-linux-gnu --arch=amd64 --enable-gpl --disable-stripping --enable-gnutls --enable-ladspa --enable-libaom --enable-libass --enable-libbluray --enable-libbs2b --enable-libcaca --enable-libcdio --enable-libcodec2 --enable-libdav1d --enable-libflite --enable-libfontconfig --enable-libfreetype --enable-libfribidi --enable-libgme --enable-libgsm --enable-libjack --enable-libmp3lame --enable-libmysofa --enable-libopenjpeg --enable-libopenmpt --enable-libopus --enable-libpulse --enable-librabbitmq --enable-librubberband --enable-libshine --enable-libsnappy --enable-libsoxr --enable-libspeex --enable-libsrt --enable-libssh --enable-libtheora --enable-libtwolame --enable-libvidstab --enable-libvorbis --enable-libvpx --enable-libwebp --enable-libx265 --enable-libxml2 --enable-libxvid --enable-libzimg --enable-libzmq --enable-libzvbi --enable-lv2 --enable-omx --enable-openal --enable-opencl --enable-opengl --enable-sdl2 --enable-pocketsphinx --enable-librsvg --enable-libmfx --enable-libdc1394 --enable-libdrm --enable-libiec61883 --enable-chromaprint --enable-frei0r --enable-libx264 --enable-shared\n",
      "  libavutil      56. 70.100 / 56. 70.100\n",
      "  libavcodec     58.134.100 / 58.134.100\n",
      "  libavformat    58. 76.100 / 58. 76.100\n",
      "  libavdevice    58. 13.100 / 58. 13.100\n",
      "  libavfilter     7.110.100 /  7.110.100\n",
      "  libswscale      5.  9.100 /  5.  9.100\n",
      "  libswresample   3.  9.100 /  3.  9.100\n",
      "  libpostproc    55.  9.100 / 55.  9.100\n",
      "Input #0, image2, from '%d.png':\n",
      "  Duration: 00:00:16.00, start: 0.000000, bitrate: N/A\n",
      "  Stream #0:0: Video: png, rgba(pc), 5051x2835 [SAR 11811:11811 DAR 5051:2835], 25 fps, 25 tbr, 25 tbn, 25 tbc\n",
      "Input #1, png_pipe, from '../temp_palette_AB2.png':\n",
      "  Duration: N/A, bitrate: N/A\n",
      "  Stream #1:0: Video: png, rgba(pc), 16x16 [SAR 1:1 DAR 1:1], 25 fps, 25 tbr, 25 tbn, 25 tbc\n",
      "Stream mapping:\n",
      "  Stream #0:0 (png) -> paletteuse:default\n",
      "  Stream #1:0 (png) -> paletteuse:palette\n",
      "  paletteuse -> Stream #0:0 (gif)\n",
      "Press [q] to stop, [?] for help\n",
      "[image2 @ 0x55979798b840] Thread message queue blocking; consider raising the thread_queue_size option (current value: 8)\n",
      "Output #0, gif, to '../AB2.gif':\n",
      "  Metadata:\n",
      "    encoder         : Lavf58.76.100\n",
      "  Stream #0:0: Video: gif, pal8(pc, gbr/unknown/unknown, progressive), 5051x2835 [SAR 1:1 DAR 5051:2835], q=2-31, 200 kb/s, 25 fps, 100 tbn (default)\n",
      "    Metadata:\n",
      "      encoder         : Lavc58.134.100 gif\n",
      "frame=  400 fps=2.1 q=-0.0 Lsize=    1806kB time=00:00:15.97 bitrate= 926.5kbits/s speed=0.0857x    \n",
      "video:1806kB audio:0kB subtitle:0kB other streams:0kB global headers:0kB muxing overhead: 0.001081%\n"
     ]
    },
    {
     "name": "stdout",
     "output_type": "stream",
     "text": [
      "\n",
      "7-Zip [64] 16.02 : Copyright (c) 1999-2016 Igor Pavlov : 2016-05-21\n",
      "p7zip Version 16.02 (locale=en_US.UTF-8,Utf16=on,HugeFiles=on,64 bits,20 CPUs 12th Gen Intel(R) Core(TM) i7-12700H (906A3),ASM,AES-NI)\n",
      "\n",
      "Scanning the drive:\n",
      "400 files, 105203889 bytes (101 MiB)\n",
      "\n",
      "Creating archive: ../AB2.7z\n",
      "\n",
      "Items to compress: 400\n",
      "\n",
      "\n",
      "Files read from disk: 400\n",
      "Archive size: 42166383 bytes (41 MiB)\n",
      "Everything is Ok\n",
      "no cleanup type specified\n"
     ]
    }
   ],
   "source": [
    "parameter_grid = list(range(1,len(Rs),50)) #plot every 5th timestep\n",
    "savefigures(makeplot,parameter_grid,outdir='./AB2/')\n",
    "render('./AB2/','AB2','gif',runtime=20)"
   ]
  },
  {
   "cell_type": "code",
   "execution_count": null,
   "metadata": {},
   "outputs": [],
   "source": []
  },
  {
   "cell_type": "code",
   "execution_count": null,
   "metadata": {},
   "outputs": [],
   "source": []
  },
  {
   "cell_type": "code",
   "execution_count": null,
   "metadata": {},
   "outputs": [],
   "source": []
  },
  {
   "cell_type": "code",
   "execution_count": null,
   "metadata": {},
   "outputs": [],
   "source": []
  },
  {
   "cell_type": "code",
   "execution_count": null,
   "metadata": {},
   "outputs": [],
   "source": []
  },
  {
   "cell_type": "code",
   "execution_count": null,
   "metadata": {},
   "outputs": [],
   "source": []
  },
  {
   "cell_type": "code",
   "execution_count": null,
   "metadata": {},
   "outputs": [],
   "source": []
  },
  {
   "cell_type": "code",
   "execution_count": null,
   "metadata": {},
   "outputs": [],
   "source": []
  },
  {
   "cell_type": "code",
   "execution_count": null,
   "metadata": {},
   "outputs": [],
   "source": []
  },
  {
   "cell_type": "code",
   "execution_count": null,
   "metadata": {},
   "outputs": [],
   "source": [
    "\n"
   ]
  },
  {
   "cell_type": "code",
   "execution_count": null,
   "metadata": {},
   "outputs": [],
   "source": []
  },
  {
   "cell_type": "code",
   "execution_count": null,
   "metadata": {},
   "outputs": [],
   "source": []
  }
 ],
 "metadata": {
  "kernelspec": {
   "display_name": "Python 3 (ipykernel)",
   "language": "python",
   "name": "python3"
  },
  "language_info": {
   "codemirror_mode": {
    "name": "ipython",
    "version": 3
   },
   "file_extension": ".py",
   "mimetype": "text/x-python",
   "name": "python",
   "nbconvert_exporter": "python",
   "pygments_lexer": "ipython3",
   "version": "3.10.6"
  }
 },
 "nbformat": 4,
 "nbformat_minor": 4
}
