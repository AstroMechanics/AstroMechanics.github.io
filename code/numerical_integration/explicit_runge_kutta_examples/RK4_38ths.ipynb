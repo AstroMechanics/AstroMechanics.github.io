{
 "cells": [
  {
   "cell_type": "code",
   "execution_count": 1,
   "metadata": {
    "tags": []
   },
   "outputs": [],
   "source": [
    "import numpy as np\n",
    "import matplotlib.pyplot as plt\n",
    "import matplotlib\n",
    "#from animate import *\n",
    "import sys\n",
    "sys.path.append('../../src/')\n",
    "from helper_functions import *\n",
    "plt.style.use('dynamics_site')"
   ]
  },
  {
   "cell_type": "markdown",
   "metadata": {},
   "source": [
    "## Define Integration Loop"
   ]
  },
  {
   "cell_type": "code",
   "execution_count": 2,
   "metadata": {
    "tags": []
   },
   "outputs": [],
   "source": [
    "def integrate_rk4(system,dt,steps):\n",
    "    G, mvec, rvec, vvec = load_initials(system)\n",
    "    Rs = [rvec]\n",
    "    Vs = [vvec]\n",
    "    for i in range(steps-1):\n",
    "#         k1_via = get_acclerations(rvec,mvec)\n",
    "#         k1_ria = vvec\n",
    "#         k2_via = get_acclerations(rvec+(k1_ria*(dt/2)),mvec)\n",
    "#         k2_ria = vvec+k1_via*(dt/2)\n",
    "        \n",
    "#         k3_via = get_acclerations(rvec+(k2_ria*(dt/2)),mvec)\n",
    "#         k3_ria = vvec+k2_via*(dt/2)\n",
    "#         k4_via = get_acclerations(rvec+(k3_ria*dt),mvec)\n",
    "#         k4_ria = vvec+k3_via*(dt)\n",
    "#         new_vvec_a = vvec + (dt/6)*(k1_via+ 2*k2_via+ 2*k3_via+k4_via)\n",
    "#         new_rvec_a = rvec + (dt/6)*(k1_ria+ 2*k2_ria+ 2*k3_ria+k4_ria)\n",
    "\n",
    "        k1_vi = dt*get_acclerations(rvec,mvec)\n",
    "        k1_ri = dt*vvec        \n",
    "        \n",
    "        k2_vi = dt*get_acclerations(rvec +(1/3)*k1_ri,mvec)\n",
    "        k2_ri = dt*(vvec                 +(1/3)*k1_vi)\n",
    "\n",
    "        k3_vi = dt*get_acclerations(rvec -(1/3)*k1_ri+(1/1)*k2_ri,mvec)\n",
    "        k3_ri = dt*(vvec                 -(1/3)*k1_vi+(1/1)*k2_vi)\n",
    "        \n",
    "        k4_vi = dt*get_acclerations(rvec +(1/1)*k1_ri-(1/1)*k2_ri+(1/1)*k3_ri,mvec)\n",
    "        k4_ri = dt*(vvec                 +(1/1)*k1_vi-(1/1)*k2_vi+(1/1)*k3_vi)\n",
    "        \n",
    "        new_vvec = vvec + (1/8)*k1_vi + (3/8)*k2_vi + (3/8)*k3_vi + (1/8)*k4_vi\n",
    "        new_rvec = rvec + (1/8)*k1_ri + (3/8)*k2_ri + (3/8)*k3_ri + (1/8)*k4_ri\n",
    "\n",
    "        Rs.append(new_rvec)\n",
    "        Vs.append(new_vvec)\n",
    "        rvec = new_rvec\n",
    "        vvec = new_vvec\n",
    "\n",
    "    Rs = np.array(Rs)\n",
    "    Vs = np.array(Vs)\n",
    "    PE = get_PE(Rs,mvec)\n",
    "    KE = get_KE(Vs,mvec)\n",
    "    \n",
    "    Rs = np.array([Rs[j].T for j in range(len(Rs))])\n",
    "    Vs = np.array([Vs[j].T for j in range(len(Rs))])\n",
    "    return Rs,Vs,PE+KE\n"
   ]
  },
  {
   "cell_type": "markdown",
   "metadata": {},
   "source": [
    "## Preform Integration"
   ]
  },
  {
   "cell_type": "code",
   "execution_count": 3,
   "metadata": {
    "tags": []
   },
   "outputs": [],
   "source": [
    "dt = 0.001\n",
    "steps = 20000\n",
    "Rs,Vs,Es = integrate_rk4('../../src/Earth-Sun.npy',dt,steps)\n",
    "xs,ys = Rs[:,:2,0].T\n",
    "xp,yp = Rs[:,:2,1].T\n",
    "times = np.linspace(0,steps*dt,steps)"
   ]
  },
  {
   "cell_type": "code",
   "execution_count": 4,
   "metadata": {},
   "outputs": [
    {
     "data": {
      "text/plain": [
       "<matplotlib.collections.PathCollection at 0x7f8235c589a0>"
      ]
     },
     "execution_count": 4,
     "metadata": {},
     "output_type": "execute_result"
    },
    {
     "data": {
      "image/png": "[encoded data removed]",
      "text/plain": [
       "<Figure size 500x500 with 1 Axes>"
      ]
     },
     "metadata": {},
     "output_type": "display_data"
    }
   ],
   "source": [
    "plt.scatter(xp,yp,s=0.1)"
   ]
  },
  {
   "cell_type": "markdown",
   "metadata": {},
   "source": [
    "## Generate Output "
   ]
  },
  {
   "cell_type": "code",
   "execution_count": 5,
   "metadata": {
    "tags": []
   },
   "outputs": [],
   "source": [
    "def makeplot(i):\n",
    "    xs,ys = Rs[:i,:2,0].T\n",
    "    xp,yp = Rs[:i,:2,1].T\n",
    "    relative_error = Es[:i]\n",
    "    times = np.linspace(0,steps*dt,steps)\n",
    "\n",
    "\n",
    "    fig,ax = plt.subplots(ncols=2,figsize=(20,10))\n",
    "    ax[0].scatter(xs[-1],ys[-1],c='k',marker='*',s=100)\n",
    "    ax[0].plot(xp,yp,c='k',alpha=0.3)\n",
    "    ax[0].scatter(xp[-1],yp[-1],c='k',s=100)\n",
    "    ax[0].set_xlabel(\"X [AU]\")\n",
    "    ax[0].set_ylabel(\"Y [AU]\")\n",
    "    ax[0].set_xlim(-1.25*np.max(Rs),1.25*np.max(Rs))\n",
    "    ax[0].set_ylim(-1.25*np.max(Rs),1.25*np.max(Rs))\n",
    "\n",
    "    ax[1].plot(times[:i],relative_error,c='k')\n",
    "    ax[1].set_ylabel(\"Energy(t)\")\n",
    "    ax[1].set_xlabel(\"Time [yrs]\")\n",
    "    ax[1].set_xlim(0,np.max(times))\n",
    "    ax[1].set_ylim(np.min(Es),np.max(Es))\n",
    "    plt.suptitle(r\"$\\Delta t = 0.001 [yrs]$\")\n",
    "    return fig"
   ]
  },
  {
   "cell_type": "code",
   "execution_count": 6,
   "metadata": {},
   "outputs": [],
   "source": [
    "# parameter_grid = list(range(1,len(Rs),50)) #plot every 5th timestep\n",
    "# savefigures(makeplot,parameter_grid,outdir='./rk4/')\n",
    "# render('./rk4/','rk4','gif',runtime=20)"
   ]
  },
  {
   "cell_type": "code",
   "execution_count": null,
   "metadata": {},
   "outputs": [],
   "source": []
  },
  {
   "cell_type": "code",
   "execution_count": null,
   "metadata": {},
   "outputs": [],
   "source": []
  },
  {
   "cell_type": "code",
   "execution_count": null,
   "metadata": {},
   "outputs": [],
   "source": []
  },
  {
   "cell_type": "code",
   "execution_count": null,
   "metadata": {},
   "outputs": [],
   "source": []
  },
  {
   "cell_type": "code",
   "execution_count": null,
   "metadata": {},
   "outputs": [],
   "source": []
  },
  {
   "cell_type": "code",
   "execution_count": null,
   "metadata": {},
   "outputs": [],
   "source": []
  },
  {
   "cell_type": "code",
   "execution_count": null,
   "metadata": {},
   "outputs": [],
   "source": []
  },
  {
   "cell_type": "code",
   "execution_count": null,
   "metadata": {},
   "outputs": [],
   "source": []
  },
  {
   "cell_type": "code",
   "execution_count": null,
   "metadata": {},
   "outputs": [],
   "source": []
  },
  {
   "cell_type": "code",
   "execution_count": null,
   "metadata": {},
   "outputs": [],
   "source": [
    "\n"
   ]
  },
  {
   "cell_type": "code",
   "execution_count": null,
   "metadata": {},
   "outputs": [],
   "source": []
  },
  {
   "cell_type": "code",
   "execution_count": null,
   "metadata": {},
   "outputs": [],
   "source": []
  }
 ],
 "metadata": {
  "kernelspec": {
   "display_name": "Python 3 (ipykernel)",
   "language": "python",
   "name": "python3"
  },
  "language_info": {
   "codemirror_mode": {
    "name": "ipython",
    "version": 3
   },
   "file_extension": ".py",
   "mimetype": "text/x-python",
   "name": "python",
   "nbconvert_exporter": "python",
   "pygments_lexer": "ipython3",
   "version": "3.10.6"
  }
 },
 "nbformat": 4,
 "nbformat_minor": 4
}
